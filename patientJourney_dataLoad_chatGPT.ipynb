{
  "cells": [
    {
      "cell_type": "markdown",
      "metadata": {
        "id": "view-in-github",
        "colab_type": "text"
      },
      "source": [
        "<a href=\"https://colab.research.google.com/github/danb-neo4j/patient_journey_chatGPT/blob/main/patientJourney_dataLoad_chatGPT.ipynb\" target=\"_parent\"><img src=\"https://colab.research.google.com/assets/colab-badge.svg\" alt=\"Open In Colab\"/></a>"
      ]
    },
    {
      "cell_type": "markdown",
      "id": "ba5c31ff-8572-47d9-9b4a-22ac74d9de05",
      "metadata": {
        "id": "ba5c31ff-8572-47d9-9b4a-22ac74d9de05"
      },
      "source": [
        "# Neo4j GDS Patient Journey Demo: Data Loading with ChatGPT\n",
        "This notebook is an updated version of the original [patient journey data loading notebook](https://github.com/danb-neo4j/patient_journey/blob/main/patientJourney_dataLoad.ipynb). As with the updated [tabular EDA notebook](https://github.com/danb-neo4j/patient_journey_chatGPT/blob/main/patientJourney_tabularEDA_chatGPT.ipynb), this one explores when and how to incorporate ChatGPT into the process of developing graph data models and ingesting tabular data into Neo4j. \n",
        "\n",
        "This notebook uses the same [Synthea](https://synthea.mitre.org/) data data sets as before:\n",
        "* Patients\n",
        "* Encounters\n",
        "* Procedures\n",
        "* Medications (Drugs)\n",
        "\n",
        "The existing Cypher data loading code code below is adapted from the code provided in [Graph Data Processing with Cypher](https://github.com/PacktPublishing/Cypher-Querying). \n",
        "\n",
        "Also as before, this data model **does not** incorporate temporal `HAS_NEXT` types of relationships. Creating such relationships can be very beneficial for patient or customer journey analysis. However, it is also an advanced data modeling topic and can require substantial refactoring of an existing data model. \n",
        "\n",
        "The data model used as the basis for this notebook may be more intuitive and represenative of existing data models. The subsequent analysis notebooks also demonstrate how it is possible to identify high-value patient journey insights without incorporating the temporal relationships. Organizations can find the path to generating valuable, graph-based insights quicker by starting with their data as-is before refactoring it for temporal journey analysis. \n",
        "\n",
        "*Last updated: 11 May 2023*"
      ]
    },
    {
      "cell_type": "markdown",
      "source": [
        "## Comments About ChatGPT\n",
        "I found the process of using ChatGPT to create this data loading notebook quite different than when I was creating the [tabular EDA notebook](https://github.com/danb-neo4j/patient_journey_chatGPT/blob/main/patientJourney_tabularEDA_chatGPT.ipynb). In particular:\n",
        "* The tabular EDA notebook mostly required me to ask simple, straightforward questions to ChatGPT. Other than creating a few lines of Python code, ChatGPT was just answering questions and interpreting simple data distributions. There were not situations where I asked it complex questions or to act in a generative manner.\n",
        "* In this notebook I asked ChatGPT to be generative with much more complex prompts. I could see my questions for generating Cypher become much more complex as I worked through the notebook, in part because my requriements were also more complex. As this process continued, ChatGPT seemed to struggle more and more with its responses. \n",
        "\n",
        "Working through this notebook was also educational for me in other ways:\n",
        "* LLM Models are Important: This notebook uses ChatGPT 3.5 Turbo via the Python API. As I was developing the notebook I asked similar questions to ChatGPT 4.0 via the OpenAI web interface. I found the responses from 4.0 on the web interface to, in general, be much better than those I received from 3.5 via the Python API. \n",
        "* Prompts are Important: Specific models aside, the quality of the prompt has a significant impact on the quality of the response. I cannot remember the source, but one of the best suggestions I heard for writing prompts was to think of the LLM as a very smart high school aged intern who needs detailed, step-by-step guidance to work from. \n",
        "* Graph Data Models are Difficult: There is an art and science to building graph data models and they often depend on many other factors in addition to the data itself. That makes this task for LLMs difficult as well. As with everything related to LLMs, generating Cypher and graph data models is new and will improve as we improve our prompts and the models improve themselves. "
      ],
      "metadata": {
        "id": "PZkBBOqKC79r"
      },
      "id": "PZkBBOqKC79r"
    },
    {
      "cell_type": "markdown",
      "id": "9bf92bc2-67fd-43e6-b953-e92a1454bc01",
      "metadata": {
        "id": "9bf92bc2-67fd-43e6-b953-e92a1454bc01"
      },
      "source": [
        "# Import Libraries"
      ]
    },
    {
      "cell_type": "code",
      "execution_count": 1,
      "id": "88bee118-e1b1-4d65-a6c3-8ebe1d5c879c",
      "metadata": {
        "id": "88bee118-e1b1-4d65-a6c3-8ebe1d5c879c"
      },
      "outputs": [],
      "source": [
        "import pandas as pd\n",
        "pd.set_option('display.max_columns', None)\n",
        "pd.set_option('display.max_rows', None)\n",
        "pd.set_option('display.max_colwidth', None)\n",
        "\n",
        "import matplotlib.pyplot as plt \n",
        "import seaborn as sns\n",
        "sns.set_style('darkgrid')\n",
        "sns.set_palette(\"colorblind\")\n",
        "sns.set(rc={'figure.figsize':(12,7)})\n",
        "\n",
        "import os\n",
        "import configparser\n",
        "from IPython.display import Image"
      ]
    },
    {
      "cell_type": "code",
      "execution_count": 2,
      "id": "1fa80139-9ff7-4e00-bc3e-900749f96b69",
      "metadata": {
        "colab": {
          "base_uri": "https://localhost:8080/"
        },
        "id": "1fa80139-9ff7-4e00-bc3e-900749f96b69",
        "outputId": "ad952470-3ab9-45c6-d42f-b24731de6aa5"
      },
      "outputs": [
        {
          "output_type": "stream",
          "name": "stdout",
          "text": [
            "Successfully imported GraphDataScience\n"
          ]
        }
      ],
      "source": [
        "# install or import Neo4j GraphDataScience library\n",
        "try: \n",
        "  from graphdatascience import GraphDataScience\n",
        "  print('Successfully imported GraphDataScience')\n",
        "except ModuleNotFoundError:\n",
        "  !pip install graphdatascience\n",
        "  from graphdatascience import GraphDataScience\n",
        "  print('installed and imported GraphDataScience')"
      ]
    },
    {
      "cell_type": "markdown",
      "source": [
        "## Mount Google Drive and Set Directory"
      ],
      "metadata": {
        "id": "AXfLBgazLOb1"
      },
      "id": "AXfLBgazLOb1"
    },
    {
      "cell_type": "code",
      "source": [
        "from google.colab import drive \n",
        "drive.mount('/content/drive')\n"
      ],
      "metadata": {
        "colab": {
          "base_uri": "https://localhost:8080/"
        },
        "id": "39gMefv4LE1F",
        "outputId": "5f7ec2d7-9724-4cba-9783-4a2b72f8c6cf"
      },
      "execution_count": 3,
      "outputs": [
        {
          "output_type": "stream",
          "name": "stdout",
          "text": [
            "Drive already mounted at /content/drive; to attempt to forcibly remount, call drive.mount(\"/content/drive\", force_remount=True).\n"
          ]
        }
      ],
      "id": "39gMefv4LE1F"
    },
    {
      "cell_type": "code",
      "source": [
        "# change working directory \n",
        "os.chdir('drive/MyDrive/Colab Notebooks/gds_demos/patient_journey/')\n",
        "DATA_DIRECTORY = 'data/'"
      ],
      "metadata": {
        "id": "8ABo9MPVLVrP"
      },
      "execution_count": 4,
      "outputs": [],
      "id": "8ABo9MPVLVrP"
    },
    {
      "cell_type": "markdown",
      "id": "abdab6ec",
      "metadata": {
        "id": "abdab6ec"
      },
      "source": [
        "# OpenAI ChatGPT"
      ]
    },
    {
      "cell_type": "markdown",
      "id": "94869718",
      "metadata": {
        "id": "94869718"
      },
      "source": [
        "## Install Python Library"
      ]
    },
    {
      "cell_type": "code",
      "execution_count": 5,
      "id": "335f193a",
      "metadata": {
        "colab": {
          "base_uri": "https://localhost:8080/"
        },
        "id": "335f193a",
        "outputId": "c65c7d4a-28a7-4a6a-9111-2baae41f5f9b"
      },
      "outputs": [
        {
          "output_type": "stream",
          "name": "stdout",
          "text": [
            "Successfully imported openai\n"
          ]
        }
      ],
      "source": [
        "# import or install openai\n",
        "try: \n",
        "    import openai\n",
        "    print('Successfully imported openai')\n",
        "except ModuleNotFoundError:\n",
        "    !pip install openai\n",
        "    import openai \n",
        "    print('installed and imported GraphDataScience')"
      ]
    },
    {
      "cell_type": "markdown",
      "id": "e306cf99",
      "metadata": {
        "id": "e306cf99"
      },
      "source": [
        "## Set API Key"
      ]
    },
    {
      "cell_type": "code",
      "execution_count": 6,
      "id": "3c0031c9",
      "metadata": {
        "id": "3c0031c9"
      },
      "outputs": [],
      "source": [
        "# assign openai api key\n",
        "api_key_path = 'openAI/openAI_API.txt'\n",
        "openai.api_key = open(api_key_path, 'r').read().strip('\\n')"
      ]
    },
    {
      "cell_type": "markdown",
      "id": "b8858354",
      "metadata": {
        "id": "b8858354"
      },
      "source": [
        "## Set Model and Test Connection"
      ]
    },
    {
      "cell_type": "code",
      "execution_count": 11,
      "id": "cbc5053e",
      "metadata": {
        "id": "cbc5053e"
      },
      "outputs": [],
      "source": [
        "# set openai model \n",
        "model = 'gpt-3.5-turbo'\n",
        "message_history = []"
      ]
    },
    {
      "cell_type": "code",
      "execution_count": 12,
      "id": "06fd46f0",
      "metadata": {
        "id": "06fd46f0"
      },
      "outputs": [],
      "source": [
        "# test api connection\n",
        "prompt='How many moons does the planet Jupiter have?'\n",
        "messages = [{'role':'user', 'content': prompt}]\n",
        "\n",
        "response = openai.ChatCompletion.create(model=model, messages=messages, temperature=0)"
      ]
    },
    {
      "cell_type": "code",
      "execution_count": 13,
      "id": "7d2018f1",
      "metadata": {
        "colab": {
          "base_uri": "https://localhost:8080/",
          "height": 35
        },
        "id": "7d2018f1",
        "outputId": "a8b44fd4-6365-456a-de57-ba957c619df0"
      },
      "outputs": [
        {
          "output_type": "execute_result",
          "data": {
            "text/plain": [
              "'Jupiter has 79 known moons.'"
            ],
            "application/vnd.google.colaboratory.intrinsic+json": {
              "type": "string"
            }
          },
          "metadata": {},
          "execution_count": 13
        }
      ],
      "source": [
        "response.choices[0].message['content']"
      ]
    },
    {
      "cell_type": "markdown",
      "id": "7a16a51b",
      "metadata": {
        "id": "7a16a51b"
      },
      "source": [
        "## Helper Function to Capture ChatGPT Message History"
      ]
    },
    {
      "cell_type": "code",
      "execution_count": 14,
      "id": "d701a53e",
      "metadata": {
        "id": "d701a53e"
      },
      "outputs": [],
      "source": [
        "def submit_query_and_append(prompt=prompt, message_history=message_history):\n",
        "    \"\"\"Submit a query to the openai chatbot and append the response to the message history\"\"\"\n",
        "    # append the prompt to the message history\n",
        "    message_history.append({'role':'user', 'content': prompt})\n",
        "\n",
        "    # submit query to openai chatbot\n",
        "    response = openai.ChatCompletion.create(model=model, messages=message_history, temperature=0)\n",
        "\n",
        "    # append the response to the message history \n",
        "    response_text = response.choices[0].message['content']\n",
        "    message_history.append({'role':'assistant', 'content': response_text})\n",
        "\n",
        "    return message_history, response_text"
      ]
    },
    {
      "cell_type": "markdown",
      "id": "7119b6f0-01cd-4e74-99f6-92b68b353f0c",
      "metadata": {
        "id": "7119b6f0-01cd-4e74-99f6-92b68b353f0c"
      },
      "source": [
        "# Connect to Neo4j Database"
      ]
    },
    {
      "cell_type": "code",
      "execution_count": 15,
      "id": "829646a2-da52-4c19-aafe-cc3d7a2409b1",
      "metadata": {
        "id": "829646a2-da52-4c19-aafe-cc3d7a2409b1"
      },
      "outputs": [],
      "source": [
        "# import utility function to connect to Neo4j DB\n",
        "from neoUtils import read_neo4j_properties"
      ]
    },
    {
      "cell_type": "code",
      "execution_count": 16,
      "id": "f6566c2f-d7a4-436b-96c3-5874f010764c",
      "metadata": {
        "colab": {
          "base_uri": "https://localhost:8080/"
        },
        "id": "f6566c2f-d7a4-436b-96c3-5874f010764c",
        "outputId": "17e9398f-13a1-44e3-e9cd-f6d228e0c04c"
      },
      "outputs": [
        {
          "output_type": "stream",
          "name": "stdout",
          "text": [
            "Using HOST, USERNAME, PASSWORD from .ini file\n"
          ]
        }
      ],
      "source": [
        "# read in Neo4j host and authentication \n",
        "NEO4J_PROPERTIES_FILE = 'auth/patientJourney_auth.ini'\n",
        "HOST, USERNAME, PASSWORD = read_neo4j_properties(NEO4J_PROPERTIES_FILE=NEO4J_PROPERTIES_FILE)"
      ]
    },
    {
      "cell_type": "code",
      "execution_count": 17,
      "id": "7326078c-fde8-41ed-baf7-cdc9a9b9e315",
      "metadata": {
        "colab": {
          "base_uri": "https://localhost:8080/"
        },
        "id": "7326078c-fde8-41ed-baf7-cdc9a9b9e315",
        "outputId": "dace513e-950f-4f6c-d286-32837706d4a1"
      },
      "outputs": [
        {
          "output_type": "stream",
          "name": "stdout",
          "text": [
            "Neo4j GDS Version: 2.3.4+17\n"
          ]
        }
      ],
      "source": [
        "# connect to and instantiate GDS\n",
        "gds = GraphDataScience(HOST, auth=(USERNAME, PASSWORD), aura_ds=False)\n",
        "\n",
        "# confirm connection with gds version \n",
        "print('Neo4j GDS Version:', gds.version())"
      ]
    },
    {
      "cell_type": "code",
      "execution_count": 19,
      "id": "vrqVfuDFMuvY",
      "metadata": {
        "colab": {
          "base_uri": "https://localhost:8080/",
          "height": 49
        },
        "id": "vrqVfuDFMuvY",
        "outputId": "6591fbd1-2265-47c8-b281-4b4ed900a7f0"
      },
      "outputs": [
        {
          "output_type": "execute_result",
          "data": {
            "text/plain": [
              "Empty DataFrame\n",
              "Columns: []\n",
              "Index: []"
            ],
            "text/html": [
              "\n",
              "  <div id=\"df-02f51ccc-def4-44f8-a12c-6bb40c390eb9\">\n",
              "    <div class=\"colab-df-container\">\n",
              "      <div>\n",
              "<style scoped>\n",
              "    .dataframe tbody tr th:only-of-type {\n",
              "        vertical-align: middle;\n",
              "    }\n",
              "\n",
              "    .dataframe tbody tr th {\n",
              "        vertical-align: top;\n",
              "    }\n",
              "\n",
              "    .dataframe thead th {\n",
              "        text-align: right;\n",
              "    }\n",
              "</style>\n",
              "<table border=\"1\" class=\"dataframe\">\n",
              "  <thead>\n",
              "    <tr style=\"text-align: right;\">\n",
              "      <th></th>\n",
              "    </tr>\n",
              "  </thead>\n",
              "  <tbody>\n",
              "  </tbody>\n",
              "</table>\n",
              "</div>\n",
              "      <button class=\"colab-df-convert\" onclick=\"convertToInteractive('df-02f51ccc-def4-44f8-a12c-6bb40c390eb9')\"\n",
              "              title=\"Convert this dataframe to an interactive table.\"\n",
              "              style=\"display:none;\">\n",
              "        \n",
              "  <svg xmlns=\"http://www.w3.org/2000/svg\" height=\"24px\"viewBox=\"0 0 24 24\"\n",
              "       width=\"24px\">\n",
              "    <path d=\"M0 0h24v24H0V0z\" fill=\"none\"/>\n",
              "    <path d=\"M18.56 5.44l.94 2.06.94-2.06 2.06-.94-2.06-.94-.94-2.06-.94 2.06-2.06.94zm-11 1L8.5 8.5l.94-2.06 2.06-.94-2.06-.94L8.5 2.5l-.94 2.06-2.06.94zm10 10l.94 2.06.94-2.06 2.06-.94-2.06-.94-.94-2.06-.94 2.06-2.06.94z\"/><path d=\"M17.41 7.96l-1.37-1.37c-.4-.4-.92-.59-1.43-.59-.52 0-1.04.2-1.43.59L10.3 9.45l-7.72 7.72c-.78.78-.78 2.05 0 2.83L4 21.41c.39.39.9.59 1.41.59.51 0 1.02-.2 1.41-.59l7.78-7.78 2.81-2.81c.8-.78.8-2.07 0-2.86zM5.41 20L4 18.59l7.72-7.72 1.47 1.35L5.41 20z\"/>\n",
              "  </svg>\n",
              "      </button>\n",
              "      \n",
              "  <style>\n",
              "    .colab-df-container {\n",
              "      display:flex;\n",
              "      flex-wrap:wrap;\n",
              "      gap: 12px;\n",
              "    }\n",
              "\n",
              "    .colab-df-convert {\n",
              "      background-color: #E8F0FE;\n",
              "      border: none;\n",
              "      border-radius: 50%;\n",
              "      cursor: pointer;\n",
              "      display: none;\n",
              "      fill: #1967D2;\n",
              "      height: 32px;\n",
              "      padding: 0 0 0 0;\n",
              "      width: 32px;\n",
              "    }\n",
              "\n",
              "    .colab-df-convert:hover {\n",
              "      background-color: #E2EBFA;\n",
              "      box-shadow: 0px 1px 2px rgba(60, 64, 67, 0.3), 0px 1px 3px 1px rgba(60, 64, 67, 0.15);\n",
              "      fill: #174EA6;\n",
              "    }\n",
              "\n",
              "    [theme=dark] .colab-df-convert {\n",
              "      background-color: #3B4455;\n",
              "      fill: #D2E3FC;\n",
              "    }\n",
              "\n",
              "    [theme=dark] .colab-df-convert:hover {\n",
              "      background-color: #434B5C;\n",
              "      box-shadow: 0px 1px 3px 1px rgba(0, 0, 0, 0.15);\n",
              "      filter: drop-shadow(0px 1px 2px rgba(0, 0, 0, 0.3));\n",
              "      fill: #FFFFFF;\n",
              "    }\n",
              "  </style>\n",
              "\n",
              "      <script>\n",
              "        const buttonEl =\n",
              "          document.querySelector('#df-02f51ccc-def4-44f8-a12c-6bb40c390eb9 button.colab-df-convert');\n",
              "        buttonEl.style.display =\n",
              "          google.colab.kernel.accessAllowed ? 'block' : 'none';\n",
              "\n",
              "        async function convertToInteractive(key) {\n",
              "          const element = document.querySelector('#df-02f51ccc-def4-44f8-a12c-6bb40c390eb9');\n",
              "          const dataTable =\n",
              "            await google.colab.kernel.invokeFunction('convertToInteractive',\n",
              "                                                     [key], {});\n",
              "          if (!dataTable) return;\n",
              "\n",
              "          const docLinkHtml = 'Like what you see? Visit the ' +\n",
              "            '<a target=\"_blank\" href=https://colab.research.google.com/notebooks/data_table.ipynb>data table notebook</a>'\n",
              "            + ' to learn more about interactive tables.';\n",
              "          element.innerHTML = '';\n",
              "          dataTable['output_type'] = 'display_data';\n",
              "          await google.colab.output.renderOutput(dataTable, element);\n",
              "          const docLink = document.createElement('div');\n",
              "          docLink.innerHTML = docLinkHtml;\n",
              "          element.appendChild(docLink);\n",
              "        }\n",
              "      </script>\n",
              "    </div>\n",
              "  </div>\n",
              "  "
            ]
          },
          "metadata": {},
          "execution_count": 19
        }
      ],
      "source": [
        "# # code to delete database, if necessary\n",
        "# gds.run_cypher('''\n",
        "# MATCH (n) \n",
        "# CALL { WITH n \n",
        "# DETACH DELETE n \n",
        "# } IN TRANSACTIONS OF 50000 ROWS\n",
        "# ''')"
      ]
    },
    {
      "cell_type": "markdown",
      "id": "1866279a-21f3-41ff-a253-f8a1c660db72",
      "metadata": {
        "id": "1866279a-21f3-41ff-a253-f8a1c660db72"
      },
      "source": [
        "# Read-In Data"
      ]
    },
    {
      "cell_type": "markdown",
      "id": "df5418b5",
      "metadata": {
        "id": "df5418b5"
      },
      "source": [
        "## Load Patient Data"
      ]
    },
    {
      "cell_type": "code",
      "execution_count": 20,
      "id": "9c2bccd6-0a6d-43ba-a32e-e0e224a5e374",
      "metadata": {
        "colab": {
          "base_uri": "https://localhost:8080/"
        },
        "id": "9c2bccd6-0a6d-43ba-a32e-e0e224a5e374",
        "outputId": "b338b114-0c7e-4a97-b2e2-0c532f18114c"
      },
      "outputs": [
        {
          "output_type": "execute_result",
          "data": {
            "text/plain": [
              "(5885, 14)"
            ]
          },
          "metadata": {},
          "execution_count": 20
        }
      ],
      "source": [
        "# NOTE: The 'updated' version of the Patient Data includes an 'AGE' feature\n",
        "patient_df = pd.read_csv(DATA_DIRECTORY + 'patients_updated.csv')\n",
        "patient_df = patient_df.fillna('')\n",
        "patient_df.shape"
      ]
    },
    {
      "cell_type": "code",
      "source": [
        "# convert ZIP feature to string\n",
        "patient_df['ZIP'] = patient_df['ZIP'].astype(str)\n",
        "\n",
        "# pad ZIP feature with zeros to the left\n",
        "patient_df['ZIP'] = patient_df['ZIP'].str.pad(width=5, side='left', fillchar='0')"
      ],
      "metadata": {
        "id": "PVV7-olMafBP"
      },
      "id": "PVV7-olMafBP",
      "execution_count": 21,
      "outputs": []
    },
    {
      "cell_type": "markdown",
      "id": "ccfbdd07-9d83-4525-ab83-493d95c8e252",
      "metadata": {
        "id": "ccfbdd07-9d83-4525-ab83-493d95c8e252"
      },
      "source": [
        "## Load Encounters Data"
      ]
    },
    {
      "cell_type": "code",
      "execution_count": 22,
      "id": "kCYIyRn51FhJ",
      "metadata": {
        "colab": {
          "base_uri": "https://localhost:8080/"
        },
        "id": "kCYIyRn51FhJ",
        "outputId": "d0b9858f-e18b-40bb-d200-9486e9c0ce0d"
      },
      "outputs": [
        {
          "output_type": "execute_result",
          "data": {
            "text/plain": [
              "(497415, 15)"
            ]
          },
          "metadata": {},
          "execution_count": 22
        }
      ],
      "source": [
        "encounters_df = pd.read_csv(DATA_DIRECTORY + 'encounters.csv')\n",
        "encounters_df = encounters_df.fillna('')\n",
        "encounters_df.shape"
      ]
    },
    {
      "cell_type": "markdown",
      "id": "2b7d26aa",
      "metadata": {
        "id": "2b7d26aa"
      },
      "source": [
        "## Load Procedures Data"
      ]
    },
    {
      "cell_type": "code",
      "execution_count": 23,
      "id": "776b6b9e",
      "metadata": {
        "colab": {
          "base_uri": "https://localhost:8080/"
        },
        "id": "776b6b9e",
        "outputId": "153364eb-3631-4273-e4f8-8c15b3e58f2d"
      },
      "outputs": [
        {
          "output_type": "execute_result",
          "data": {
            "text/plain": [
              "(785604, 9)"
            ]
          },
          "metadata": {},
          "execution_count": 23
        }
      ],
      "source": [
        "procedures_df = pd.read_csv(DATA_DIRECTORY + 'procedures.csv')\n",
        "procedures_df = procedures_df.fillna('')\n",
        "procedures_df.shape"
      ]
    },
    {
      "cell_type": "markdown",
      "id": "f7187bd8",
      "metadata": {
        "id": "f7187bd8"
      },
      "source": [
        "## Load Medications (Drugs) Data"
      ]
    },
    {
      "cell_type": "code",
      "execution_count": 24,
      "id": "f3c94e6c",
      "metadata": {
        "colab": {
          "base_uri": "https://localhost:8080/"
        },
        "id": "f3c94e6c",
        "outputId": "78927ac4-b1dd-4d36-cbce-32a699e3f7d2"
      },
      "outputs": [
        {
          "output_type": "execute_result",
          "data": {
            "text/plain": [
              "(604103, 13)"
            ]
          },
          "metadata": {},
          "execution_count": 24
        }
      ],
      "source": [
        "medications_df = pd.read_csv(DATA_DIRECTORY + 'medications.csv')\n",
        "medications_df = medications_df.fillna('')\n",
        "medications_df.shape"
      ]
    },
    {
      "cell_type": "markdown",
      "id": "b7c741ef",
      "metadata": {
        "id": "b7c741ef"
      },
      "source": [
        "# Ask ChatGPT About Overall Patient Journey Data Model\n",
        "Although we have the rough outline of a data model from [Graph Data Processing with Cypher](https://github.com/PacktPublishing/Cypher-Querying), we want to explore what ideas ChatGPT has and if there are any improvements it could make. \n",
        "\n",
        "Using ChatGPT to create graph data models is an emerging area, so we will try different prompts in an attempt to produce a workable solution. We will include context about all four data sets in the prompt below to help it develop a solution. "
      ]
    },
    {
      "cell_type": "code",
      "execution_count": 25,
      "id": "915844ce",
      "metadata": {
        "colab": {
          "base_uri": "https://localhost:8080/"
        },
        "id": "915844ce",
        "outputId": "cf3faf8d-e7af-453c-98f6-a5f30cbed320"
      },
      "outputs": [
        {
          "output_type": "stream",
          "name": "stdout",
          "text": [
            "Based on the provided data, the following graph data model is recommended:\n",
            "\n",
            "Nodes:\n",
            "- Patient: with properties Id, FIRST, LAST, SSN, BIRTHDATE, DEATHDATE, DECEASED, AGE, GENDER, RACE, INCOME, HEALTHCARE_EXPENSES, ZIP\n",
            "- Encounter: with properties Id, START, STOP, ORGANIZATION, PROVIDER, PAYER, ENCOUNTERCLASS, CODE, DESCRIPTION, BASE_ENCOUNTER_COST, TOTAL_CLAIM_COST, PAYER_COVERAGE, REASONCODE, REASONDESCRIPTION\n",
            "- Procedure: with properties START, STOP, CODE, DESCRIPTION, BASE_COST, REASONCODE, REASONDESCRIPTION\n",
            "- Medication: with properties START, STOP, PAYER, CODE, DESCRIPTION, BASE_COST, PAYER_COVERAGE, DISPENSES, TOTALCOST, REASONCODE, REASONDESCRIPTION\n",
            "\n",
            "Relationships:\n",
            "- (Patient)-[:HAD_ENCOUNTER]->(Encounter)\n",
            "- (Encounter)-[:HAD_PROCEDURE]->(Procedure)\n",
            "- (Encounter)-[:HAD_MEDICATION]->(Medication)\n",
            "\n",
            "This model allows for easy traversal of patient journeys, as well as analysis of encounters, procedures, and medications associated with each patient. The relationships between nodes also allow for easy aggregation and analysis of data at different levels of granularity. For example, one could easily analyze the most common procedures or medications associated with a particular encounter class, or the most common encounter classes associated with a particular patient demographic.\n"
          ]
        }
      ],
      "source": [
        "prompt = f\"\"\"I want you to act as an experienced graph data scientist and help me create a graph data model for a Neo4j database.\n",
        "             My objective is to perform a graph-based patient journey analysis. \n",
        "             My data is in the following four pandas dataframes, details of which are between the four hashes:\\n\n",
        "             ####\n",
        "             patients_df, which contains patient information. This data has {patient_df.shape[0]} records and the following features and datatypes \\n{patient_df.dtypes}\\n \n",
        "             \n",
        "             encounters_df, which contains data about medical encounters the patients had. \n",
        "             This data has {encounters_df.shape[0]} records and the following features and data types \\n{encounters_df.columns}\\n\n",
        "             \n",
        "             procedures_df, which contains medical procedure information associated with patient encounters.\n",
        "             This data has {procedures_df.shape[0]} records and the following features and data types \\n{procedures_df.columns}\\n\n",
        "             \n",
        "             medications_df, which contains medication data associated with patient encounters and procedures.\n",
        "             This data has {medications_df.shape[0]} records and the following features and data types {medications_df.columns}\\n \n",
        "             ####\n",
        "             \n",
        "             I want to create a graph data model that will allow me to perform a patient journey analysis using standard Cypher as well\n",
        "             as algorithms in the Neo4j Graph Data Science library. \n",
        "             Please design a graph data model with recommendations for nodes, properties, and relationships.\n",
        "\"\"\"\n",
        "\n",
        "message_history = []\n",
        "\n",
        "message_history, response_text = submit_query_and_append(prompt, message_history)\n",
        "\n",
        "print(response_text)"
      ]
    },
    {
      "cell_type": "code",
      "execution_count": 26,
      "id": "98b1ed43",
      "metadata": {
        "colab": {
          "base_uri": "https://localhost:8080/"
        },
        "id": "98b1ed43",
        "outputId": "9f627060-ad21-4397-fa3e-a3ea681c7286"
      },
      "outputs": [
        {
          "output_type": "stream",
          "name": "stdout",
          "text": [
            "Yes, there are several ways to optimize the data model for use with Graph Data Science. Here are some suggestions:\n",
            "\n",
            "1. Add labels to nodes: Adding labels to nodes can help optimize queries by allowing for more efficient indexing and filtering. For example, adding the label \":Patient\" to the Patient nodes can help optimize queries that involve only patient data.\n",
            "\n",
            "2. Use relationship types: Using specific relationship types can help optimize queries by allowing for more efficient traversal of the graph. For example, using the relationship type \"HAD_PROCEDURE\" instead of a generic \"HAS\" relationship can help optimize queries that involve procedures.\n",
            "\n",
            "3. Add indexes: Adding indexes to frequently queried properties can help optimize queries by allowing for faster lookups. For example, adding an index to the \"CODE\" property in the Procedure and Medication nodes can help optimize queries that involve specific procedures or medications.\n",
            "\n",
            "4. Use property graphs: Property graphs allow for the creation of independent nodes that can represent properties of other nodes. For example, creating a separate node for \"ZIP\" codes can allow for more efficient queries that involve geographic data.\n",
            "\n",
            "5. Use relationship properties: Adding properties to relationships can help optimize queries by allowing for more efficient filtering and aggregation. For example, adding a \"COST\" property to the \"HAD_PROCEDURE\" relationship can allow for more efficient queries that involve the cost of procedures.\n",
            "\n",
            "In terms of node properties, the most important ones will depend on the specific analysis being performed. However, properties such as patient demographics (e.g. age, gender, race), encounter information (e.g. start and stop times, encounter class), and procedure and medication codes and descriptions are likely to be important for many types of analysis.\n",
            "\n",
            "In terms of relationships, the most important ones will also depend on the specific analysis being performed. However, relationships between patients and encounters, encounters and procedures, and encounters and medications are likely to be important for many types of analysis.\n",
            "\n",
            "Overall, optimizing the data model for use with Graph Data Science will involve a balance between adding additional nodes and relationships to capture important data, while also keeping the graph as simple and efficient as possible.\n"
          ]
        }
      ],
      "source": [
        "prompt = f\"\"\"Continuing the conversation. You provided good initial data model. \n",
        "             Are there any ways to optimize it, especially for use with Graph Data Science?\n",
        "             Which node properties are the most important? \n",
        "             Which relationships are the most important?\n",
        "             Are there any node properties that could become independent nodes? Or properties that should be added to relationships?\n",
        "             Please provide suggestions for how to optimize the data model you suggested.\n",
        "\"\"\"\n",
        "\n",
        "message_history, response_text = submit_query_and_append(prompt, message_history)\n",
        "\n",
        "print(response_text)"
      ]
    },
    {
      "cell_type": "code",
      "source": [
        "prompt = f\"\"\"Continuing the conversation. Please provide me with an updated graph data model \n",
        "             and include the most impactful optimizations you suggested in your previous response.\n",
        "\"\"\"\n",
        "\n",
        "message_history, response_text = submit_query_and_append(prompt, message_history)\n",
        "\n",
        "print(response_text)"
      ],
      "metadata": {
        "colab": {
          "base_uri": "https://localhost:8080/"
        },
        "id": "opUIdWG8ZKnL",
        "outputId": "c9812e79-ea19-4874-d4ae-b00fce309296"
      },
      "id": "opUIdWG8ZKnL",
      "execution_count": 27,
      "outputs": [
        {
          "output_type": "stream",
          "name": "stdout",
          "text": [
            "Based on the previous suggestions, here is an updated graph data model:\n",
            "\n",
            "Nodes:\n",
            "- :Patient with properties Id, FIRST, LAST, SSN, BIRTHDATE, DEATHDATE, DECEASED, AGE, GENDER, RACE, INCOME, HEALTHCARE_EXPENSES\n",
            "- :Encounter with properties Id, START, STOP, ORGANIZATION, PROVIDER, PAYER, ENCOUNTERCLASS, BASE_ENCOUNTER_COST, TOTAL_CLAIM_COST, PAYER_COVERAGE, REASONCODE, REASONDESCRIPTION\n",
            "- :Procedure with properties CODE, DESCRIPTION, BASE_COST, REASONCODE, REASONDESCRIPTION\n",
            "- :Medication with properties CODE, DESCRIPTION, BASE_COST, PAYER_COVERAGE, DISPENSES, TOTALCOST, REASONCODE, REASONDESCRIPTION\n",
            "- :ZipCode with property ZIP\n",
            "\n",
            "Relationships:\n",
            "- (Patient)-[:HAD_ENCOUNTER]->(Encounter)\n",
            "- (Encounter)-[:HAD_PROCEDURE {COST}]->(Procedure)\n",
            "- (Encounter)-[:HAD_MEDICATION {COST}]->(Medication)\n",
            "- (Patient)-[:LOCATED_IN]->(ZipCode)\n",
            "\n",
            "Optimizations:\n",
            "1. Labels have been added to nodes to improve query performance.\n",
            "2. Specific relationship types have been used to improve query performance.\n",
            "3. Indexes have been added to frequently queried properties to improve query performance.\n",
            "4. A separate node for ZipCode has been added to improve query performance and allow for geographic analysis.\n",
            "5. Properties have been added to relationships to allow for more efficient filtering and aggregation.\n",
            "\n",
            "This updated model should allow for efficient querying and analysis of patient journeys, as well as encounters, procedures, and medications associated with each patient. The addition of the ZipCode node also allows for geographic analysis, which can be useful for understanding healthcare disparities and other geographic trends.\n"
          ]
        }
      ]
    },
    {
      "cell_type": "markdown",
      "id": "7497757c",
      "metadata": {
        "id": "7497757c"
      },
      "source": [
        "# Load Patient Data into Neo4j"
      ]
    },
    {
      "cell_type": "markdown",
      "source": [
        "## Ask ChatGPT Specific Questions"
      ],
      "metadata": {
        "id": "h62y0glDSYju"
      },
      "id": "h62y0glDSYju"
    },
    {
      "cell_type": "code",
      "source": [
        "# view patient dataframe for reference \n",
        "patient_df.head()"
      ],
      "metadata": {
        "colab": {
          "base_uri": "https://localhost:8080/",
          "height": 206
        },
        "id": "4zKoAnhtZxh3",
        "outputId": "93768a5c-5933-44b2-e259-9c4dd7fdbe1b"
      },
      "execution_count": 28,
      "outputs": [
        {
          "output_type": "execute_result",
          "data": {
            "text/plain": [
              "   Unnamed: 0                                    Id       FIRST  \\\n",
              "0           0  75bef938-819a-ce94-8dc9-17dc50077a86      Joi660   \n",
              "1           1  faf277d8-c5c7-406c-f139-9143c35ff4e8    Billy698   \n",
              "2           2  4f01341c-4946-31cd-9f2e-7844867f1606  Dominic463   \n",
              "3           3  63cd703f-3077-613f-adf0-85fc32f3ae2a    Ethan766   \n",
              "4           4  61b942b2-8324-0208-7e2f-5309af2be4f4    Arron144   \n",
              "\n",
              "            LAST          SSN   BIRTHDATE DEATHDATE  DECEASED  AGE GENDER  \\\n",
              "0     Barrows492  999-68-3502  1991-11-22               False   31      F   \n",
              "1  McLaughlin530  999-51-6719  1987-09-28               False   35      M   \n",
              "2        Ward668  999-82-1028  1979-07-30               False   43      M   \n",
              "3       Nolan344  999-72-1131  1971-01-22               False   52      M   \n",
              "4   Bashirian201  999-12-8574  1968-04-06               False   55      M   \n",
              "\n",
              "    RACE  INCOME  HEALTHCARE_EXPENSES    ZIP  \n",
              "0  white  144427             36108.19  02720  \n",
              "1  white   10147              6685.55  00000  \n",
              "2  white  109151             37041.63  00000  \n",
              "3  white   78360             16736.57  01086  \n",
              "4  asian  416323             57242.58  02210  "
            ],
            "text/html": [
              "\n",
              "  <div id=\"df-45f7b442-0bd2-4f09-8b1d-fb61fbb23c29\">\n",
              "    <div class=\"colab-df-container\">\n",
              "      <div>\n",
              "<style scoped>\n",
              "    .dataframe tbody tr th:only-of-type {\n",
              "        vertical-align: middle;\n",
              "    }\n",
              "\n",
              "    .dataframe tbody tr th {\n",
              "        vertical-align: top;\n",
              "    }\n",
              "\n",
              "    .dataframe thead th {\n",
              "        text-align: right;\n",
              "    }\n",
              "</style>\n",
              "<table border=\"1\" class=\"dataframe\">\n",
              "  <thead>\n",
              "    <tr style=\"text-align: right;\">\n",
              "      <th></th>\n",
              "      <th>Unnamed: 0</th>\n",
              "      <th>Id</th>\n",
              "      <th>FIRST</th>\n",
              "      <th>LAST</th>\n",
              "      <th>SSN</th>\n",
              "      <th>BIRTHDATE</th>\n",
              "      <th>DEATHDATE</th>\n",
              "      <th>DECEASED</th>\n",
              "      <th>AGE</th>\n",
              "      <th>GENDER</th>\n",
              "      <th>RACE</th>\n",
              "      <th>INCOME</th>\n",
              "      <th>HEALTHCARE_EXPENSES</th>\n",
              "      <th>ZIP</th>\n",
              "    </tr>\n",
              "  </thead>\n",
              "  <tbody>\n",
              "    <tr>\n",
              "      <th>0</th>\n",
              "      <td>0</td>\n",
              "      <td>75bef938-819a-ce94-8dc9-17dc50077a86</td>\n",
              "      <td>Joi660</td>\n",
              "      <td>Barrows492</td>\n",
              "      <td>999-68-3502</td>\n",
              "      <td>1991-11-22</td>\n",
              "      <td></td>\n",
              "      <td>False</td>\n",
              "      <td>31</td>\n",
              "      <td>F</td>\n",
              "      <td>white</td>\n",
              "      <td>144427</td>\n",
              "      <td>36108.19</td>\n",
              "      <td>02720</td>\n",
              "    </tr>\n",
              "    <tr>\n",
              "      <th>1</th>\n",
              "      <td>1</td>\n",
              "      <td>faf277d8-c5c7-406c-f139-9143c35ff4e8</td>\n",
              "      <td>Billy698</td>\n",
              "      <td>McLaughlin530</td>\n",
              "      <td>999-51-6719</td>\n",
              "      <td>1987-09-28</td>\n",
              "      <td></td>\n",
              "      <td>False</td>\n",
              "      <td>35</td>\n",
              "      <td>M</td>\n",
              "      <td>white</td>\n",
              "      <td>10147</td>\n",
              "      <td>6685.55</td>\n",
              "      <td>00000</td>\n",
              "    </tr>\n",
              "    <tr>\n",
              "      <th>2</th>\n",
              "      <td>2</td>\n",
              "      <td>4f01341c-4946-31cd-9f2e-7844867f1606</td>\n",
              "      <td>Dominic463</td>\n",
              "      <td>Ward668</td>\n",
              "      <td>999-82-1028</td>\n",
              "      <td>1979-07-30</td>\n",
              "      <td></td>\n",
              "      <td>False</td>\n",
              "      <td>43</td>\n",
              "      <td>M</td>\n",
              "      <td>white</td>\n",
              "      <td>109151</td>\n",
              "      <td>37041.63</td>\n",
              "      <td>00000</td>\n",
              "    </tr>\n",
              "    <tr>\n",
              "      <th>3</th>\n",
              "      <td>3</td>\n",
              "      <td>63cd703f-3077-613f-adf0-85fc32f3ae2a</td>\n",
              "      <td>Ethan766</td>\n",
              "      <td>Nolan344</td>\n",
              "      <td>999-72-1131</td>\n",
              "      <td>1971-01-22</td>\n",
              "      <td></td>\n",
              "      <td>False</td>\n",
              "      <td>52</td>\n",
              "      <td>M</td>\n",
              "      <td>white</td>\n",
              "      <td>78360</td>\n",
              "      <td>16736.57</td>\n",
              "      <td>01086</td>\n",
              "    </tr>\n",
              "    <tr>\n",
              "      <th>4</th>\n",
              "      <td>4</td>\n",
              "      <td>61b942b2-8324-0208-7e2f-5309af2be4f4</td>\n",
              "      <td>Arron144</td>\n",
              "      <td>Bashirian201</td>\n",
              "      <td>999-12-8574</td>\n",
              "      <td>1968-04-06</td>\n",
              "      <td></td>\n",
              "      <td>False</td>\n",
              "      <td>55</td>\n",
              "      <td>M</td>\n",
              "      <td>asian</td>\n",
              "      <td>416323</td>\n",
              "      <td>57242.58</td>\n",
              "      <td>02210</td>\n",
              "    </tr>\n",
              "  </tbody>\n",
              "</table>\n",
              "</div>\n",
              "      <button class=\"colab-df-convert\" onclick=\"convertToInteractive('df-45f7b442-0bd2-4f09-8b1d-fb61fbb23c29')\"\n",
              "              title=\"Convert this dataframe to an interactive table.\"\n",
              "              style=\"display:none;\">\n",
              "        \n",
              "  <svg xmlns=\"http://www.w3.org/2000/svg\" height=\"24px\"viewBox=\"0 0 24 24\"\n",
              "       width=\"24px\">\n",
              "    <path d=\"M0 0h24v24H0V0z\" fill=\"none\"/>\n",
              "    <path d=\"M18.56 5.44l.94 2.06.94-2.06 2.06-.94-2.06-.94-.94-2.06-.94 2.06-2.06.94zm-11 1L8.5 8.5l.94-2.06 2.06-.94-2.06-.94L8.5 2.5l-.94 2.06-2.06.94zm10 10l.94 2.06.94-2.06 2.06-.94-2.06-.94-.94-2.06-.94 2.06-2.06.94z\"/><path d=\"M17.41 7.96l-1.37-1.37c-.4-.4-.92-.59-1.43-.59-.52 0-1.04.2-1.43.59L10.3 9.45l-7.72 7.72c-.78.78-.78 2.05 0 2.83L4 21.41c.39.39.9.59 1.41.59.51 0 1.02-.2 1.41-.59l7.78-7.78 2.81-2.81c.8-.78.8-2.07 0-2.86zM5.41 20L4 18.59l7.72-7.72 1.47 1.35L5.41 20z\"/>\n",
              "  </svg>\n",
              "      </button>\n",
              "      \n",
              "  <style>\n",
              "    .colab-df-container {\n",
              "      display:flex;\n",
              "      flex-wrap:wrap;\n",
              "      gap: 12px;\n",
              "    }\n",
              "\n",
              "    .colab-df-convert {\n",
              "      background-color: #E8F0FE;\n",
              "      border: none;\n",
              "      border-radius: 50%;\n",
              "      cursor: pointer;\n",
              "      display: none;\n",
              "      fill: #1967D2;\n",
              "      height: 32px;\n",
              "      padding: 0 0 0 0;\n",
              "      width: 32px;\n",
              "    }\n",
              "\n",
              "    .colab-df-convert:hover {\n",
              "      background-color: #E2EBFA;\n",
              "      box-shadow: 0px 1px 2px rgba(60, 64, 67, 0.3), 0px 1px 3px 1px rgba(60, 64, 67, 0.15);\n",
              "      fill: #174EA6;\n",
              "    }\n",
              "\n",
              "    [theme=dark] .colab-df-convert {\n",
              "      background-color: #3B4455;\n",
              "      fill: #D2E3FC;\n",
              "    }\n",
              "\n",
              "    [theme=dark] .colab-df-convert:hover {\n",
              "      background-color: #434B5C;\n",
              "      box-shadow: 0px 1px 3px 1px rgba(0, 0, 0, 0.15);\n",
              "      filter: drop-shadow(0px 1px 2px rgba(0, 0, 0, 0.3));\n",
              "      fill: #FFFFFF;\n",
              "    }\n",
              "  </style>\n",
              "\n",
              "      <script>\n",
              "        const buttonEl =\n",
              "          document.querySelector('#df-45f7b442-0bd2-4f09-8b1d-fb61fbb23c29 button.colab-df-convert');\n",
              "        buttonEl.style.display =\n",
              "          google.colab.kernel.accessAllowed ? 'block' : 'none';\n",
              "\n",
              "        async function convertToInteractive(key) {\n",
              "          const element = document.querySelector('#df-45f7b442-0bd2-4f09-8b1d-fb61fbb23c29');\n",
              "          const dataTable =\n",
              "            await google.colab.kernel.invokeFunction('convertToInteractive',\n",
              "                                                     [key], {});\n",
              "          if (!dataTable) return;\n",
              "\n",
              "          const docLinkHtml = 'Like what you see? Visit the ' +\n",
              "            '<a target=\"_blank\" href=https://colab.research.google.com/notebooks/data_table.ipynb>data table notebook</a>'\n",
              "            + ' to learn more about interactive tables.';\n",
              "          element.innerHTML = '';\n",
              "          dataTable['output_type'] = 'display_data';\n",
              "          await google.colab.output.renderOutput(dataTable, element);\n",
              "          const docLink = document.createElement('div');\n",
              "          docLink.innerHTML = docLinkHtml;\n",
              "          element.appendChild(docLink);\n",
              "        }\n",
              "      </script>\n",
              "    </div>\n",
              "  </div>\n",
              "  "
            ]
          },
          "metadata": {},
          "execution_count": 28
        }
      ],
      "id": "4zKoAnhtZxh3"
    },
    {
      "cell_type": "code",
      "execution_count": 29,
      "id": "44c79414",
      "metadata": {
        "colab": {
          "base_uri": "https://localhost:8080/"
        },
        "id": "44c79414",
        "outputId": "d1218c8a-1efe-4fa4-990e-7691636284e4"
      },
      "outputs": [
        {
          "output_type": "stream",
          "name": "stdout",
          "text": [
            "Sure, here is the Cypher code to load the patient nodes, as well as the Zip_Code and Race nodes:\n",
            "\n",
            "```\n",
            "// Create Zip_Code nodes\n",
            "LOAD CSV WITH HEADERS FROM 'file:///patients.csv' AS row\n",
            "MERGE (z:Zip_Code {ZIP: row.ZIP})\n",
            "\n",
            "// Create Race nodes\n",
            "LOAD CSV WITH HEADERS FROM 'file:///patients.csv' AS row\n",
            "MERGE (r:Race {code: row.RACE})\n",
            "\n",
            "// Create Patient nodes and connect to Zip_Code and Race nodes\n",
            "LOAD CSV WITH HEADERS FROM 'file:///patients.csv' AS row\n",
            "MERGE (p:Patient {Id: row.Id})\n",
            "SET p.FIRST = row.FIRST,\n",
            "    p.LAST = row.LAST,\n",
            "    p.SSN = row.SSN,\n",
            "    p.GENDER = row.GENDER,\n",
            "    p.BIRTHDATE = row.BIRTHDATE,\n",
            "    p.DEATHDATE = row.DEATHDATE,\n",
            "    p.DECEASED = row.DECEASED,\n",
            "    p.AGE = row.AGE,\n",
            "    p.HEALTHCARE_EXPENSES = row.HEALTHCARE_EXPENSES,\n",
            "    p.INCOME = row.INCOME\n",
            "MERGE (p)-[:LOCATED_IN]->(z)\n",
            "MERGE (p)-[:BELONGS_TO]->(r)\n",
            "```\n",
            "\n",
            "Explanation:\n",
            "- The first section of the code creates Zip_Code nodes by loading the \"patients.csv\" file and merging a new node for each unique ZIP code found in the file.\n",
            "- The second section of the code creates Race nodes by loading the same \"patients.csv\" file and merging a new node for each unique race code found in the file.\n",
            "- The third section of the code creates Patient nodes by loading the \"patients.csv\" file and merging a new node for each unique patient ID found in the file. The properties of each patient node are set based on the corresponding values in the CSV file. Finally, the patient node is connected to the corresponding Zip_Code and Race nodes using the MERGE keyword to ensure that each relationship is only created once.\n"
          ]
        }
      ],
      "source": [
        "prompt = f\"\"\"\n",
        "Continuing the conversation. I am going to load the patient nodes into Neo4j from \n",
        "the patient_df dataframe I shared earlier. I am creating a Patient node with properties\n",
        "from the following features:\\n\n",
        "\"FIRST, LAST, SSN, GENDER, BIRTHDATE, DEATHDATE, DECEASED, AGE, HEALTHCARE_EXPENSES, INCOME\"\n",
        "\\n\n",
        "Additionally, I plan to create Zip_Code nodes from the \"Zip\" feature and \n",
        "Race codes from the \"Race\" feature. Both will connect to the Patient node.\n",
        "\n",
        "Please provide me with Cypher code to load this data into Neo4j. \n",
        "Please also provide an explanation for the code to help me understand it.\n",
        "\"\"\"\n",
        "\n",
        "message_history, response_text = submit_query_and_append(prompt, message_history)\n",
        "\n",
        "print(response_text)"
      ]
    },
    {
      "cell_type": "code",
      "execution_count": 31,
      "id": "326c27c1",
      "metadata": {
        "colab": {
          "base_uri": "https://localhost:8080/"
        },
        "id": "326c27c1",
        "outputId": "dd0d6d6e-d95b-492a-b8fd-2b987a8570e5"
      },
      "outputs": [
        {
          "output_type": "stream",
          "name": "stdout",
          "text": [
            "When creating constraints in Neo4j, it is important to ensure that the constraints are unique and enforceable. Here are some suggestions for constraints and indexes based on the data model and the data being loaded:\n",
            "\n",
            "Constraints:\n",
            "- :Patient(Id) REQUIRE: This constraint ensures that each patient node has a unique ID property.\n",
            "- :Zip_Code(ZIP) REQUIRE: This constraint ensures that each Zip_Code node has a unique ZIP property.\n",
            "- :Race(code) REQUIRE: This constraint ensures that each Race node has a unique code property.\n",
            "\n",
            "Indexes:\n",
            "- :Patient(Id): This index can help optimize queries that involve specific patient IDs.\n",
            "- :Zip_Code(ZIP): This index can help optimize queries that involve specific ZIP codes.\n",
            "- :Race(code): This index can help optimize queries that involve specific race codes.\n",
            "\n",
            "To create these constraints and indexes, you can use the following Cypher code:\n",
            "\n",
            "```\n",
            "// Create constraints\n",
            "CREATE CONSTRAINT ON (p:Patient) ASSERT p.Id IS UNIQUE\n",
            "CREATE CONSTRAINT ON (z:Zip_Code) ASSERT z.ZIP IS UNIQUE\n",
            "CREATE CONSTRAINT ON (r:Race) ASSERT r.code IS UNIQUE\n",
            "\n",
            "// Create indexes\n",
            "CREATE INDEX ON :Patient(Id)\n",
            "CREATE INDEX ON :Zip_Code(ZIP)\n",
            "CREATE INDEX ON :Race(code)\n",
            "```\n",
            "\n",
            "Note that the ASSERT keyword has been replaced with REQUIRE in newer versions of Neo4j, as you mentioned. The REQUIRE keyword works in the same way as ASSERT, but with a slightly different syntax.\n"
          ]
        }
      ],
      "source": [
        "prompt = f\"\"\"\n",
        "Continuing the conversation about loading the patient data, what constraints should I create in the database? \n",
        "And what indexes should I create.\n",
        "Please note that new versions of Neo4j have replaced ASSERT with REQUIRE for creating constraints. \n",
        "\"\"\"\n",
        "\n",
        "message_history, response_text = submit_query_and_append(prompt, message_history)\n",
        "\n",
        "print(response_text)"
      ]
    },
    {
      "cell_type": "markdown",
      "id": "6a115e6f-f9a1-44b9-ae85-f6dd23eca48e",
      "metadata": {
        "id": "6a115e6f-f9a1-44b9-ae85-f6dd23eca48e",
        "tags": []
      },
      "source": [
        "## Create Patient Constraints"
      ]
    },
    {
      "cell_type": "code",
      "execution_count": 32,
      "id": "dad7eb4c-cba9-4d1a-859c-b6bd0b33d380",
      "metadata": {
        "colab": {
          "base_uri": "https://localhost:8080/",
          "height": 49
        },
        "id": "dad7eb4c-cba9-4d1a-859c-b6bd0b33d380",
        "outputId": "89ebed49-22d4-4f28-b7ad-7a671daf2f67"
      },
      "outputs": [
        {
          "output_type": "execute_result",
          "data": {
            "text/plain": [
              "Empty DataFrame\n",
              "Columns: []\n",
              "Index: []"
            ],
            "text/html": [
              "\n",
              "  <div id=\"df-5098525a-e62a-4da4-b225-8de9724add6a\">\n",
              "    <div class=\"colab-df-container\">\n",
              "      <div>\n",
              "<style scoped>\n",
              "    .dataframe tbody tr th:only-of-type {\n",
              "        vertical-align: middle;\n",
              "    }\n",
              "\n",
              "    .dataframe tbody tr th {\n",
              "        vertical-align: top;\n",
              "    }\n",
              "\n",
              "    .dataframe thead th {\n",
              "        text-align: right;\n",
              "    }\n",
              "</style>\n",
              "<table border=\"1\" class=\"dataframe\">\n",
              "  <thead>\n",
              "    <tr style=\"text-align: right;\">\n",
              "      <th></th>\n",
              "    </tr>\n",
              "  </thead>\n",
              "  <tbody>\n",
              "  </tbody>\n",
              "</table>\n",
              "</div>\n",
              "      <button class=\"colab-df-convert\" onclick=\"convertToInteractive('df-5098525a-e62a-4da4-b225-8de9724add6a')\"\n",
              "              title=\"Convert this dataframe to an interactive table.\"\n",
              "              style=\"display:none;\">\n",
              "        \n",
              "  <svg xmlns=\"http://www.w3.org/2000/svg\" height=\"24px\"viewBox=\"0 0 24 24\"\n",
              "       width=\"24px\">\n",
              "    <path d=\"M0 0h24v24H0V0z\" fill=\"none\"/>\n",
              "    <path d=\"M18.56 5.44l.94 2.06.94-2.06 2.06-.94-2.06-.94-.94-2.06-.94 2.06-2.06.94zm-11 1L8.5 8.5l.94-2.06 2.06-.94-2.06-.94L8.5 2.5l-.94 2.06-2.06.94zm10 10l.94 2.06.94-2.06 2.06-.94-2.06-.94-.94-2.06-.94 2.06-2.06.94z\"/><path d=\"M17.41 7.96l-1.37-1.37c-.4-.4-.92-.59-1.43-.59-.52 0-1.04.2-1.43.59L10.3 9.45l-7.72 7.72c-.78.78-.78 2.05 0 2.83L4 21.41c.39.39.9.59 1.41.59.51 0 1.02-.2 1.41-.59l7.78-7.78 2.81-2.81c.8-.78.8-2.07 0-2.86zM5.41 20L4 18.59l7.72-7.72 1.47 1.35L5.41 20z\"/>\n",
              "  </svg>\n",
              "      </button>\n",
              "      \n",
              "  <style>\n",
              "    .colab-df-container {\n",
              "      display:flex;\n",
              "      flex-wrap:wrap;\n",
              "      gap: 12px;\n",
              "    }\n",
              "\n",
              "    .colab-df-convert {\n",
              "      background-color: #E8F0FE;\n",
              "      border: none;\n",
              "      border-radius: 50%;\n",
              "      cursor: pointer;\n",
              "      display: none;\n",
              "      fill: #1967D2;\n",
              "      height: 32px;\n",
              "      padding: 0 0 0 0;\n",
              "      width: 32px;\n",
              "    }\n",
              "\n",
              "    .colab-df-convert:hover {\n",
              "      background-color: #E2EBFA;\n",
              "      box-shadow: 0px 1px 2px rgba(60, 64, 67, 0.3), 0px 1px 3px 1px rgba(60, 64, 67, 0.15);\n",
              "      fill: #174EA6;\n",
              "    }\n",
              "\n",
              "    [theme=dark] .colab-df-convert {\n",
              "      background-color: #3B4455;\n",
              "      fill: #D2E3FC;\n",
              "    }\n",
              "\n",
              "    [theme=dark] .colab-df-convert:hover {\n",
              "      background-color: #434B5C;\n",
              "      box-shadow: 0px 1px 3px 1px rgba(0, 0, 0, 0.15);\n",
              "      filter: drop-shadow(0px 1px 2px rgba(0, 0, 0, 0.3));\n",
              "      fill: #FFFFFF;\n",
              "    }\n",
              "  </style>\n",
              "\n",
              "      <script>\n",
              "        const buttonEl =\n",
              "          document.querySelector('#df-5098525a-e62a-4da4-b225-8de9724add6a button.colab-df-convert');\n",
              "        buttonEl.style.display =\n",
              "          google.colab.kernel.accessAllowed ? 'block' : 'none';\n",
              "\n",
              "        async function convertToInteractive(key) {\n",
              "          const element = document.querySelector('#df-5098525a-e62a-4da4-b225-8de9724add6a');\n",
              "          const dataTable =\n",
              "            await google.colab.kernel.invokeFunction('convertToInteractive',\n",
              "                                                     [key], {});\n",
              "          if (!dataTable) return;\n",
              "\n",
              "          const docLinkHtml = 'Like what you see? Visit the ' +\n",
              "            '<a target=\"_blank\" href=https://colab.research.google.com/notebooks/data_table.ipynb>data table notebook</a>'\n",
              "            + ' to learn more about interactive tables.';\n",
              "          element.innerHTML = '';\n",
              "          dataTable['output_type'] = 'display_data';\n",
              "          await google.colab.output.renderOutput(dataTable, element);\n",
              "          const docLink = document.createElement('div');\n",
              "          docLink.innerHTML = docLinkHtml;\n",
              "          element.appendChild(docLink);\n",
              "        }\n",
              "      </script>\n",
              "    </div>\n",
              "  </div>\n",
              "  "
            ]
          },
          "metadata": {},
          "execution_count": 32
        }
      ],
      "source": [
        "# create selected database constraints\n",
        "gds.run_cypher('''CREATE CONSTRAINT patient_id IF NOT EXISTS FOR (n:Patient) REQUIRE n.id IS UNIQUE''')\n",
        "gds.run_cypher('''CREATE CONSTRAINT race_type IF NOT EXISTS FOR (n:Race) REQUIRE n.type IS UNIQUE''')\n",
        "gds.run_cypher('''CREATE CONSTRAINT zip_code IF NOT EXISTS FOR (n:ZipCode) REQUIRE n.code IS UNIQUE''')"
      ]
    },
    {
      "cell_type": "markdown",
      "id": "78b96c08-fd54-4840-80c0-9b691b44df5d",
      "metadata": {
        "id": "78b96c08-fd54-4840-80c0-9b691b44df5d"
      },
      "source": [
        "## Import Patient Data and Relationships"
      ]
    },
    {
      "cell_type": "markdown",
      "source": [
        "The Cypher above is a good place to start, but as expected is not the final code we would want to use. Additionally, even though we provided context to ChatGPT for the constraints, it still used ASSERT rather than REQUIRE. \n",
        "\n",
        "DEATHDATE ended up being excluded due to issues loading missing values as date types. This information is captured via the AGE and DECEASED columns, so we are not losing that context. "
      ],
      "metadata": {
        "id": "Ui4K-FaDfBat"
      },
      "id": "Ui4K-FaDfBat"
    },
    {
      "cell_type": "code",
      "execution_count": 33,
      "id": "7fbb1b6d-e0a8-4d76-8885-548c6e4bbeb4",
      "metadata": {
        "colab": {
          "base_uri": "https://localhost:8080/",
          "height": 49
        },
        "id": "7fbb1b6d-e0a8-4d76-8885-548c6e4bbeb4",
        "outputId": "9ab85724-9492-4629-a21e-659339a58a3a"
      },
      "outputs": [
        {
          "output_type": "execute_result",
          "data": {
            "text/plain": [
              "Empty DataFrame\n",
              "Columns: []\n",
              "Index: []"
            ],
            "text/html": [
              "\n",
              "  <div id=\"df-d1539122-6e32-435b-837f-66d3a9ba985c\">\n",
              "    <div class=\"colab-df-container\">\n",
              "      <div>\n",
              "<style scoped>\n",
              "    .dataframe tbody tr th:only-of-type {\n",
              "        vertical-align: middle;\n",
              "    }\n",
              "\n",
              "    .dataframe tbody tr th {\n",
              "        vertical-align: top;\n",
              "    }\n",
              "\n",
              "    .dataframe thead th {\n",
              "        text-align: right;\n",
              "    }\n",
              "</style>\n",
              "<table border=\"1\" class=\"dataframe\">\n",
              "  <thead>\n",
              "    <tr style=\"text-align: right;\">\n",
              "      <th></th>\n",
              "    </tr>\n",
              "  </thead>\n",
              "  <tbody>\n",
              "  </tbody>\n",
              "</table>\n",
              "</div>\n",
              "      <button class=\"colab-df-convert\" onclick=\"convertToInteractive('df-d1539122-6e32-435b-837f-66d3a9ba985c')\"\n",
              "              title=\"Convert this dataframe to an interactive table.\"\n",
              "              style=\"display:none;\">\n",
              "        \n",
              "  <svg xmlns=\"http://www.w3.org/2000/svg\" height=\"24px\"viewBox=\"0 0 24 24\"\n",
              "       width=\"24px\">\n",
              "    <path d=\"M0 0h24v24H0V0z\" fill=\"none\"/>\n",
              "    <path d=\"M18.56 5.44l.94 2.06.94-2.06 2.06-.94-2.06-.94-.94-2.06-.94 2.06-2.06.94zm-11 1L8.5 8.5l.94-2.06 2.06-.94-2.06-.94L8.5 2.5l-.94 2.06-2.06.94zm10 10l.94 2.06.94-2.06 2.06-.94-2.06-.94-.94-2.06-.94 2.06-2.06.94z\"/><path d=\"M17.41 7.96l-1.37-1.37c-.4-.4-.92-.59-1.43-.59-.52 0-1.04.2-1.43.59L10.3 9.45l-7.72 7.72c-.78.78-.78 2.05 0 2.83L4 21.41c.39.39.9.59 1.41.59.51 0 1.02-.2 1.41-.59l7.78-7.78 2.81-2.81c.8-.78.8-2.07 0-2.86zM5.41 20L4 18.59l7.72-7.72 1.47 1.35L5.41 20z\"/>\n",
              "  </svg>\n",
              "      </button>\n",
              "      \n",
              "  <style>\n",
              "    .colab-df-container {\n",
              "      display:flex;\n",
              "      flex-wrap:wrap;\n",
              "      gap: 12px;\n",
              "    }\n",
              "\n",
              "    .colab-df-convert {\n",
              "      background-color: #E8F0FE;\n",
              "      border: none;\n",
              "      border-radius: 50%;\n",
              "      cursor: pointer;\n",
              "      display: none;\n",
              "      fill: #1967D2;\n",
              "      height: 32px;\n",
              "      padding: 0 0 0 0;\n",
              "      width: 32px;\n",
              "    }\n",
              "\n",
              "    .colab-df-convert:hover {\n",
              "      background-color: #E2EBFA;\n",
              "      box-shadow: 0px 1px 2px rgba(60, 64, 67, 0.3), 0px 1px 3px 1px rgba(60, 64, 67, 0.15);\n",
              "      fill: #174EA6;\n",
              "    }\n",
              "\n",
              "    [theme=dark] .colab-df-convert {\n",
              "      background-color: #3B4455;\n",
              "      fill: #D2E3FC;\n",
              "    }\n",
              "\n",
              "    [theme=dark] .colab-df-convert:hover {\n",
              "      background-color: #434B5C;\n",
              "      box-shadow: 0px 1px 3px 1px rgba(0, 0, 0, 0.15);\n",
              "      filter: drop-shadow(0px 1px 2px rgba(0, 0, 0, 0.3));\n",
              "      fill: #FFFFFF;\n",
              "    }\n",
              "  </style>\n",
              "\n",
              "      <script>\n",
              "        const buttonEl =\n",
              "          document.querySelector('#df-d1539122-6e32-435b-837f-66d3a9ba985c button.colab-df-convert');\n",
              "        buttonEl.style.display =\n",
              "          google.colab.kernel.accessAllowed ? 'block' : 'none';\n",
              "\n",
              "        async function convertToInteractive(key) {\n",
              "          const element = document.querySelector('#df-d1539122-6e32-435b-837f-66d3a9ba985c');\n",
              "          const dataTable =\n",
              "            await google.colab.kernel.invokeFunction('convertToInteractive',\n",
              "                                                     [key], {});\n",
              "          if (!dataTable) return;\n",
              "\n",
              "          const docLinkHtml = 'Like what you see? Visit the ' +\n",
              "            '<a target=\"_blank\" href=https://colab.research.google.com/notebooks/data_table.ipynb>data table notebook</a>'\n",
              "            + ' to learn more about interactive tables.';\n",
              "          element.innerHTML = '';\n",
              "          dataTable['output_type'] = 'display_data';\n",
              "          await google.colab.output.renderOutput(dataTable, element);\n",
              "          const docLink = document.createElement('div');\n",
              "          docLink.innerHTML = docLinkHtml;\n",
              "          element.appendChild(docLink);\n",
              "        }\n",
              "      </script>\n",
              "    </div>\n",
              "  </div>\n",
              "  "
            ]
          },
          "metadata": {},
          "execution_count": 33
        }
      ],
      "source": [
        "gds.run_cypher('''\n",
        "CYPHER runtime=slotted\n",
        "UNWIND $patient_data AS row\n",
        "\n",
        "CALL {\n",
        "WITH row\n",
        "MERGE (p:Patient {id: row.Id})\n",
        "SET\n",
        "    p.firstName = row.FIRST,\n",
        "    p.lastName = row.LAST,\n",
        "    p.ssn = row.SSN,\n",
        "    p.gender = row.GENDER,\n",
        "    p.birthDate = DATE(row.BIRTHDATE),\n",
        "    p.deceased = toBoolean(row.DECEASED),\n",
        "    p.age = toFloat(row.AGE),\n",
        "    p.income = toFloat(row.INCOME),\n",
        "    p.healthExpenses = toFloat(row.HEALTHCARE_EXPENSES)\n",
        "\n",
        "WITH row, p\n",
        "MERGE (r:Race {type: row.RACE})\n",
        "MERGE (p)-[:HAS_RACE]->(r)\n",
        "\n",
        "WITH row, p\n",
        "MERGE (z:ZipCode {code: row.ZIP})\n",
        "MERGE (p)-[:HAS_ZIP]->(z)\n",
        "\n",
        "} IN TRANSACTIONS OF 1000 ROWS\n",
        "''', {'patient_data': patient_df.to_dict('records')})"
      ]
    },
    {
      "cell_type": "markdown",
      "id": "392df6c5",
      "metadata": {
        "id": "392df6c5"
      },
      "source": [
        "# Load Encounter Data into Neo4j"
      ]
    },
    {
      "cell_type": "markdown",
      "source": [
        "## Ask ChatGPT Specific Questions"
      ],
      "metadata": {
        "id": "oIIcTkPPSc0l"
      },
      "id": "oIIcTkPPSc0l"
    },
    {
      "cell_type": "code",
      "source": [
        "# view encounters dataframe for reference \n",
        "encounters_df.head()"
      ],
      "metadata": {
        "colab": {
          "base_uri": "https://localhost:8080/",
          "height": 337
        },
        "id": "qxbt-2LjfYWv",
        "outputId": "61575e70-73d9-4e89-c51d-bf9cefd4d89f"
      },
      "id": "qxbt-2LjfYWv",
      "execution_count": 34,
      "outputs": [
        {
          "output_type": "execute_result",
          "data": {
            "text/plain": [
              "                                     Id                 START  \\\n",
              "0  b7d4cb84-84b8-55a6-186c-fc2a9baa9e12  2010-01-15T11:35:37Z   \n",
              "1  896d8330-07e5-9c95-3f71-a9033c13f837  2005-11-21T11:16:28Z   \n",
              "2  4c55d50d-930c-2db6-27e7-2ec206adc81a  2006-11-27T11:16:28Z   \n",
              "3  fc37d497-489e-fafd-4641-bcab2211611b  2009-11-30T11:16:28Z   \n",
              "4  21f8b4bc-8f2d-18f2-60bc-6e6e2e1edbaf  2012-12-03T11:16:28Z   \n",
              "\n",
              "                   STOP                               PATIENT  \\\n",
              "0  2010-01-15T12:28:52Z  75bef938-819a-ce94-8dc9-17dc50077a86   \n",
              "1  2005-11-21T12:03:47Z  faf277d8-c5c7-406c-f139-9143c35ff4e8   \n",
              "2  2006-11-27T12:13:43Z  faf277d8-c5c7-406c-f139-9143c35ff4e8   \n",
              "3  2009-11-30T12:04:00Z  faf277d8-c5c7-406c-f139-9143c35ff4e8   \n",
              "4  2012-12-03T11:52:22Z  faf277d8-c5c7-406c-f139-9143c35ff4e8   \n",
              "\n",
              "                           ORGANIZATION                              PROVIDER  \\\n",
              "0  fb4a08b8-57ee-382b-b3cb-43d94f1bb4c0  ca383a2c-61e9-319e-8afa-97bc71679361   \n",
              "1  071a898d-3535-39fd-bf61-d33301aacd04  c7efc940-0b81-3a2b-8d26-c3fcad47abcb   \n",
              "2  071a898d-3535-39fd-bf61-d33301aacd04  c7efc940-0b81-3a2b-8d26-c3fcad47abcb   \n",
              "3  071a898d-3535-39fd-bf61-d33301aacd04  c7efc940-0b81-3a2b-8d26-c3fcad47abcb   \n",
              "4  071a898d-3535-39fd-bf61-d33301aacd04  c7efc940-0b81-3a2b-8d26-c3fcad47abcb   \n",
              "\n",
              "                                  PAYER ENCOUNTERCLASS       CODE  \\\n",
              "0  0133f751-9229-3cfd-815f-b6d4979bdd6a       wellness  162673000   \n",
              "1  df166300-5a78-3502-a46a-832842197811       wellness  162673000   \n",
              "2  df166300-5a78-3502-a46a-832842197811       wellness  162673000   \n",
              "3  df166300-5a78-3502-a46a-832842197811       wellness  162673000   \n",
              "4  df166300-5a78-3502-a46a-832842197811       wellness  162673000   \n",
              "\n",
              "                                  DESCRIPTION  BASE_ENCOUNTER_COST  \\\n",
              "0  General examination of patient (procedure)                136.8   \n",
              "1  General examination of patient (procedure)                136.8   \n",
              "2  General examination of patient (procedure)                136.8   \n",
              "3  General examination of patient (procedure)                136.8   \n",
              "4  General examination of patient (procedure)                136.8   \n",
              "\n",
              "   TOTAL_CLAIM_COST  PAYER_COVERAGE REASONCODE REASONDESCRIPTION  \n",
              "0           1233.93         1233.93                               \n",
              "1           1302.70         1152.70                               \n",
              "2            704.20          704.20                               \n",
              "3           1186.78         1086.78                               \n",
              "4            704.20          604.20                               "
            ],
            "text/html": [
              "\n",
              "  <div id=\"df-5bc1eb39-ec4a-4d23-bc4b-6866db810fbd\">\n",
              "    <div class=\"colab-df-container\">\n",
              "      <div>\n",
              "<style scoped>\n",
              "    .dataframe tbody tr th:only-of-type {\n",
              "        vertical-align: middle;\n",
              "    }\n",
              "\n",
              "    .dataframe tbody tr th {\n",
              "        vertical-align: top;\n",
              "    }\n",
              "\n",
              "    .dataframe thead th {\n",
              "        text-align: right;\n",
              "    }\n",
              "</style>\n",
              "<table border=\"1\" class=\"dataframe\">\n",
              "  <thead>\n",
              "    <tr style=\"text-align: right;\">\n",
              "      <th></th>\n",
              "      <th>Id</th>\n",
              "      <th>START</th>\n",
              "      <th>STOP</th>\n",
              "      <th>PATIENT</th>\n",
              "      <th>ORGANIZATION</th>\n",
              "      <th>PROVIDER</th>\n",
              "      <th>PAYER</th>\n",
              "      <th>ENCOUNTERCLASS</th>\n",
              "      <th>CODE</th>\n",
              "      <th>DESCRIPTION</th>\n",
              "      <th>BASE_ENCOUNTER_COST</th>\n",
              "      <th>TOTAL_CLAIM_COST</th>\n",
              "      <th>PAYER_COVERAGE</th>\n",
              "      <th>REASONCODE</th>\n",
              "      <th>REASONDESCRIPTION</th>\n",
              "    </tr>\n",
              "  </thead>\n",
              "  <tbody>\n",
              "    <tr>\n",
              "      <th>0</th>\n",
              "      <td>b7d4cb84-84b8-55a6-186c-fc2a9baa9e12</td>\n",
              "      <td>2010-01-15T11:35:37Z</td>\n",
              "      <td>2010-01-15T12:28:52Z</td>\n",
              "      <td>75bef938-819a-ce94-8dc9-17dc50077a86</td>\n",
              "      <td>fb4a08b8-57ee-382b-b3cb-43d94f1bb4c0</td>\n",
              "      <td>ca383a2c-61e9-319e-8afa-97bc71679361</td>\n",
              "      <td>0133f751-9229-3cfd-815f-b6d4979bdd6a</td>\n",
              "      <td>wellness</td>\n",
              "      <td>162673000</td>\n",
              "      <td>General examination of patient (procedure)</td>\n",
              "      <td>136.8</td>\n",
              "      <td>1233.93</td>\n",
              "      <td>1233.93</td>\n",
              "      <td></td>\n",
              "      <td></td>\n",
              "    </tr>\n",
              "    <tr>\n",
              "      <th>1</th>\n",
              "      <td>896d8330-07e5-9c95-3f71-a9033c13f837</td>\n",
              "      <td>2005-11-21T11:16:28Z</td>\n",
              "      <td>2005-11-21T12:03:47Z</td>\n",
              "      <td>faf277d8-c5c7-406c-f139-9143c35ff4e8</td>\n",
              "      <td>071a898d-3535-39fd-bf61-d33301aacd04</td>\n",
              "      <td>c7efc940-0b81-3a2b-8d26-c3fcad47abcb</td>\n",
              "      <td>df166300-5a78-3502-a46a-832842197811</td>\n",
              "      <td>wellness</td>\n",
              "      <td>162673000</td>\n",
              "      <td>General examination of patient (procedure)</td>\n",
              "      <td>136.8</td>\n",
              "      <td>1302.70</td>\n",
              "      <td>1152.70</td>\n",
              "      <td></td>\n",
              "      <td></td>\n",
              "    </tr>\n",
              "    <tr>\n",
              "      <th>2</th>\n",
              "      <td>4c55d50d-930c-2db6-27e7-2ec206adc81a</td>\n",
              "      <td>2006-11-27T11:16:28Z</td>\n",
              "      <td>2006-11-27T12:13:43Z</td>\n",
              "      <td>faf277d8-c5c7-406c-f139-9143c35ff4e8</td>\n",
              "      <td>071a898d-3535-39fd-bf61-d33301aacd04</td>\n",
              "      <td>c7efc940-0b81-3a2b-8d26-c3fcad47abcb</td>\n",
              "      <td>df166300-5a78-3502-a46a-832842197811</td>\n",
              "      <td>wellness</td>\n",
              "      <td>162673000</td>\n",
              "      <td>General examination of patient (procedure)</td>\n",
              "      <td>136.8</td>\n",
              "      <td>704.20</td>\n",
              "      <td>704.20</td>\n",
              "      <td></td>\n",
              "      <td></td>\n",
              "    </tr>\n",
              "    <tr>\n",
              "      <th>3</th>\n",
              "      <td>fc37d497-489e-fafd-4641-bcab2211611b</td>\n",
              "      <td>2009-11-30T11:16:28Z</td>\n",
              "      <td>2009-11-30T12:04:00Z</td>\n",
              "      <td>faf277d8-c5c7-406c-f139-9143c35ff4e8</td>\n",
              "      <td>071a898d-3535-39fd-bf61-d33301aacd04</td>\n",
              "      <td>c7efc940-0b81-3a2b-8d26-c3fcad47abcb</td>\n",
              "      <td>df166300-5a78-3502-a46a-832842197811</td>\n",
              "      <td>wellness</td>\n",
              "      <td>162673000</td>\n",
              "      <td>General examination of patient (procedure)</td>\n",
              "      <td>136.8</td>\n",
              "      <td>1186.78</td>\n",
              "      <td>1086.78</td>\n",
              "      <td></td>\n",
              "      <td></td>\n",
              "    </tr>\n",
              "    <tr>\n",
              "      <th>4</th>\n",
              "      <td>21f8b4bc-8f2d-18f2-60bc-6e6e2e1edbaf</td>\n",
              "      <td>2012-12-03T11:16:28Z</td>\n",
              "      <td>2012-12-03T11:52:22Z</td>\n",
              "      <td>faf277d8-c5c7-406c-f139-9143c35ff4e8</td>\n",
              "      <td>071a898d-3535-39fd-bf61-d33301aacd04</td>\n",
              "      <td>c7efc940-0b81-3a2b-8d26-c3fcad47abcb</td>\n",
              "      <td>df166300-5a78-3502-a46a-832842197811</td>\n",
              "      <td>wellness</td>\n",
              "      <td>162673000</td>\n",
              "      <td>General examination of patient (procedure)</td>\n",
              "      <td>136.8</td>\n",
              "      <td>704.20</td>\n",
              "      <td>604.20</td>\n",
              "      <td></td>\n",
              "      <td></td>\n",
              "    </tr>\n",
              "  </tbody>\n",
              "</table>\n",
              "</div>\n",
              "      <button class=\"colab-df-convert\" onclick=\"convertToInteractive('df-5bc1eb39-ec4a-4d23-bc4b-6866db810fbd')\"\n",
              "              title=\"Convert this dataframe to an interactive table.\"\n",
              "              style=\"display:none;\">\n",
              "        \n",
              "  <svg xmlns=\"http://www.w3.org/2000/svg\" height=\"24px\"viewBox=\"0 0 24 24\"\n",
              "       width=\"24px\">\n",
              "    <path d=\"M0 0h24v24H0V0z\" fill=\"none\"/>\n",
              "    <path d=\"M18.56 5.44l.94 2.06.94-2.06 2.06-.94-2.06-.94-.94-2.06-.94 2.06-2.06.94zm-11 1L8.5 8.5l.94-2.06 2.06-.94-2.06-.94L8.5 2.5l-.94 2.06-2.06.94zm10 10l.94 2.06.94-2.06 2.06-.94-2.06-.94-.94-2.06-.94 2.06-2.06.94z\"/><path d=\"M17.41 7.96l-1.37-1.37c-.4-.4-.92-.59-1.43-.59-.52 0-1.04.2-1.43.59L10.3 9.45l-7.72 7.72c-.78.78-.78 2.05 0 2.83L4 21.41c.39.39.9.59 1.41.59.51 0 1.02-.2 1.41-.59l7.78-7.78 2.81-2.81c.8-.78.8-2.07 0-2.86zM5.41 20L4 18.59l7.72-7.72 1.47 1.35L5.41 20z\"/>\n",
              "  </svg>\n",
              "      </button>\n",
              "      \n",
              "  <style>\n",
              "    .colab-df-container {\n",
              "      display:flex;\n",
              "      flex-wrap:wrap;\n",
              "      gap: 12px;\n",
              "    }\n",
              "\n",
              "    .colab-df-convert {\n",
              "      background-color: #E8F0FE;\n",
              "      border: none;\n",
              "      border-radius: 50%;\n",
              "      cursor: pointer;\n",
              "      display: none;\n",
              "      fill: #1967D2;\n",
              "      height: 32px;\n",
              "      padding: 0 0 0 0;\n",
              "      width: 32px;\n",
              "    }\n",
              "\n",
              "    .colab-df-convert:hover {\n",
              "      background-color: #E2EBFA;\n",
              "      box-shadow: 0px 1px 2px rgba(60, 64, 67, 0.3), 0px 1px 3px 1px rgba(60, 64, 67, 0.15);\n",
              "      fill: #174EA6;\n",
              "    }\n",
              "\n",
              "    [theme=dark] .colab-df-convert {\n",
              "      background-color: #3B4455;\n",
              "      fill: #D2E3FC;\n",
              "    }\n",
              "\n",
              "    [theme=dark] .colab-df-convert:hover {\n",
              "      background-color: #434B5C;\n",
              "      box-shadow: 0px 1px 3px 1px rgba(0, 0, 0, 0.15);\n",
              "      filter: drop-shadow(0px 1px 2px rgba(0, 0, 0, 0.3));\n",
              "      fill: #FFFFFF;\n",
              "    }\n",
              "  </style>\n",
              "\n",
              "      <script>\n",
              "        const buttonEl =\n",
              "          document.querySelector('#df-5bc1eb39-ec4a-4d23-bc4b-6866db810fbd button.colab-df-convert');\n",
              "        buttonEl.style.display =\n",
              "          google.colab.kernel.accessAllowed ? 'block' : 'none';\n",
              "\n",
              "        async function convertToInteractive(key) {\n",
              "          const element = document.querySelector('#df-5bc1eb39-ec4a-4d23-bc4b-6866db810fbd');\n",
              "          const dataTable =\n",
              "            await google.colab.kernel.invokeFunction('convertToInteractive',\n",
              "                                                     [key], {});\n",
              "          if (!dataTable) return;\n",
              "\n",
              "          const docLinkHtml = 'Like what you see? Visit the ' +\n",
              "            '<a target=\"_blank\" href=https://colab.research.google.com/notebooks/data_table.ipynb>data table notebook</a>'\n",
              "            + ' to learn more about interactive tables.';\n",
              "          element.innerHTML = '';\n",
              "          dataTable['output_type'] = 'display_data';\n",
              "          await google.colab.output.renderOutput(dataTable, element);\n",
              "          const docLink = document.createElement('div');\n",
              "          docLink.innerHTML = docLinkHtml;\n",
              "          element.appendChild(docLink);\n",
              "        }\n",
              "      </script>\n",
              "    </div>\n",
              "  </div>\n",
              "  "
            ]
          },
          "metadata": {},
          "execution_count": 34
        }
      ]
    },
    {
      "cell_type": "code",
      "source": [
        "# drop the first chats due to token limits\n",
        "message_history = message_history[5:]"
      ],
      "metadata": {
        "id": "BrwC7Lv2mVK5"
      },
      "id": "BrwC7Lv2mVK5",
      "execution_count": 36,
      "outputs": []
    },
    {
      "cell_type": "code",
      "source": [
        "prompt = f\"\"\"\n",
        "Continuing the conversation. I am going to load the encounter nodes into Neo4j from \n",
        "the encounters_df dataframe I shared earlier. I am creating an Encounter node with properties\n",
        "from the following features:\\n \"START, DESCRIPTION, TOTAL_CLAIM_COST\" \\n\n",
        "\n",
        "I also want to include the \"STOP\" feature as a date property on the Encounter \n",
        "node where it is not null or empty in the encounter_df dataframe.\n",
        "\n",
        "I want to use the \"CODE\" feature to create a new SNOMED_CT node, with a unique node for each CODE value.\n",
        "Encounter nodes will connect to SNOMED_CT nodes with an OF_TYPE relationship.\n",
        "Patient nodes will connect to Encounter nodes with a HAS_ENCOUNTER relationship.\n",
        "\n",
        "I want to use apoc.create.setLabels to create a secondary label on each Encounter node\n",
        "based upon the \"ENCOUNTERCLASS\" feature.\n",
        "\n",
        "Please provide me with Cypher code to load this data into Neo4j. \n",
        "Please also provide an explanation for the code to help me understand it.\n",
        "\"\"\"\n",
        "\n",
        "message_history, response_text = submit_query_and_append(prompt, message_history)\n",
        "\n",
        "print(response_text)"
      ],
      "metadata": {
        "colab": {
          "base_uri": "https://localhost:8080/"
        },
        "id": "n9eUB3pyfcGk",
        "outputId": "0410d7ec-bbf2-42de-e0e4-df1db5b6e34f"
      },
      "id": "n9eUB3pyfcGk",
      "execution_count": 35,
      "outputs": [
        {
          "output_type": "stream",
          "name": "stdout",
          "text": [
            "Sure, here is the Cypher code to load the encounter nodes, as well as the SNOMED_CT nodes:\n",
            "\n",
            "```\n",
            "// Create SNOMED_CT nodes\n",
            "LOAD CSV WITH HEADERS FROM 'file:///encounters.csv' AS row\n",
            "MERGE (s:SNOMED_CT {code: row.CODE})\n",
            "\n",
            "// Create Encounter nodes and connect to SNOMED_CT and Patient nodes\n",
            "LOAD CSV WITH HEADERS FROM 'file:///encounters.csv' AS row\n",
            "WITH row\n",
            "WHERE row.STOP IS NOT NULL AND row.STOP <> ''\n",
            "MERGE (e:Encounter {Id: row.Id})\n",
            "SET e.START = row.START,\n",
            "    e.DESCRIPTION = row.DESCRIPTION,\n",
            "    e.TOTAL_CLAIM_COST = row.TOTAL_CLAIM_COST\n",
            "MERGE (e)-[:OF_TYPE]->(s)\n",
            "MERGE (p:Patient {Id: row.PATIENT})\n",
            "MERGE (p)-[:HAS_ENCOUNTER]->(e)\n",
            "\n",
            "// Add secondary label to Encounter nodes based on ENCOUNTERCLASS\n",
            "CALL apoc.create.setLabels('Encounter', ['Encounter', row.ENCOUNTERCLASS], [e])\n",
            "```\n",
            "\n",
            "Explanation:\n",
            "- The first section of the code creates SNOMED_CT nodes by loading the \"encounters.csv\" file and merging a new node for each unique SNOMED_CT code found in the file.\n",
            "- The second section of the code creates Encounter nodes by loading the \"encounters.csv\" file and merging a new node for each unique encounter ID found in the file. The properties of each encounter node are set based on the corresponding values in the CSV file. The encounter node is connected to the corresponding SNOMED_CT node using the MERGE keyword to ensure that each relationship is only created once. Finally, the encounter node is connected to the corresponding Patient node using the MERGE keyword to ensure that each relationship is only created once.\n",
            "- The third section of the code adds a secondary label to each Encounter node based on the value of the ENCOUNTERCLASS property in the CSV file. This is done using the apoc.create.setLabels procedure, which takes the label to add, the node to add it to, and an optional list of nodes to apply the label to.\n",
            "\n",
            "Note that the STOP property is used to create a date property on the Encounter node only if it is not null or empty. This is done using the WHERE clause in the second section of the code.\n"
          ]
        }
      ]
    },
    {
      "cell_type": "code",
      "source": [
        "prompt = f\"\"\"\n",
        "Continuing the conversation. I would like you to update the Cypher code you wrote.\n",
        "I want to create an Encounter node for all encounters, not just those with a STOP value. \n",
        "If an Encounter node is null or empty for STOP, still create the node, \n",
        "but do not add the STOP value as a property. \n",
        "\n",
        "Also, is there a dynamic way to use apoc.create.setLabels() to dynamically create\n",
        "secondary Encounter labels as the nodes are created?\n",
        "\n",
        "Please provide updated Cypher code.\n",
        "\"\"\"\n",
        "\n",
        "message_history, response_text = submit_query_and_append(prompt, message_history)\n",
        "\n",
        "print(response_text)"
      ],
      "metadata": {
        "colab": {
          "base_uri": "https://localhost:8080/"
        },
        "id": "bBnca4-Zfbxv",
        "outputId": "73a9ebae-934f-4f8c-af11-d3ade672b939"
      },
      "id": "bBnca4-Zfbxv",
      "execution_count": 37,
      "outputs": [
        {
          "output_type": "stream",
          "name": "stdout",
          "text": [
            "Sure, here is the updated Cypher code to create Encounter nodes for all encounters, and to use apoc.create.setLabels() dynamically:\n",
            "\n",
            "```\n",
            "// Create SNOMED_CT nodes\n",
            "LOAD CSV WITH HEADERS FROM 'file:///encounters.csv' AS row\n",
            "MERGE (s:SNOMED_CT {code: row.CODE})\n",
            "\n",
            "// Create Encounter nodes and connect to SNOMED_CT and Patient nodes\n",
            "LOAD CSV WITH HEADERS FROM 'file:///encounters.csv' AS row\n",
            "MERGE (e:Encounter {Id: row.Id})\n",
            "SET e.START = row.START,\n",
            "    e.DESCRIPTION = row.DESCRIPTION,\n",
            "    e.TOTAL_CLAIM_COST = row.TOTAL_CLAIM_COST\n",
            "WITH e, row\n",
            "WHERE row.STOP IS NOT NULL AND row.STOP <> ''\n",
            "SET e.STOP = row.STOP\n",
            "MERGE (e)-[:OF_TYPE]->(s)\n",
            "MERGE (p:Patient {Id: row.PATIENT})\n",
            "MERGE (p)-[:HAS_ENCOUNTER]->(e)\n",
            "\n",
            "// Add secondary label to Encounter nodes based on ENCOUNTERCLASS\n",
            "CALL apoc.create.setLabels('Encounter', ['Encounter', row.ENCOUNTERCLASS], [e])\n",
            "```\n",
            "\n",
            "Explanation:\n",
            "- The first section of the code creates SNOMED_CT nodes by loading the \"encounters.csv\" file and merging a new node for each unique SNOMED_CT code found in the file.\n",
            "- The second section of the code creates Encounter nodes by loading the \"encounters.csv\" file and merging a new node for each unique encounter ID found in the file. The properties of each encounter node are set based on the corresponding values in the CSV file. If the STOP property is null or empty, it is not added as a property to the encounter node. The encounter node is connected to the corresponding SNOMED_CT node using the MERGE keyword to ensure that each relationship is only created once. Finally, the encounter node is connected to the corresponding Patient node using the MERGE keyword to ensure that each relationship is only created once.\n",
            "- The third section of the code adds a secondary label to each Encounter node based on the value of the ENCOUNTERCLASS property in the CSV file. This is done using the apoc.create.setLabels procedure, which takes the label to add, the node to add it to, and an optional list of nodes to apply the label to. In this case, the label is added dynamically based on the value of the ENCOUNTERCLASS property in the CSV file.\n"
          ]
        }
      ]
    },
    {
      "cell_type": "code",
      "source": [
        "prompt = f\"\"\"\n",
        "Continuing the conversation, what Encounter-specific constraints should I create in the database? \n",
        "And what indexes should I create. New versions of Neo4j have replaced ASSERT with REQUIRE for \n",
        "creating constraints, so please update the code accordingly. \n",
        "\"\"\"\n",
        "\n",
        "message_history, response_text = submit_query_and_append(prompt, message_history)\n",
        "\n",
        "print(response_text)"
      ],
      "metadata": {
        "colab": {
          "base_uri": "https://localhost:8080/"
        },
        "id": "KNy5ISzXTK0T",
        "outputId": "c16ee33e-6a8f-4afa-dca5-a01db64c1400"
      },
      "id": "KNy5ISzXTK0T",
      "execution_count": 38,
      "outputs": [
        {
          "output_type": "stream",
          "name": "stdout",
          "text": [
            "When creating constraints in Neo4j, it is important to ensure that the constraints are unique and enforceable. Here are some suggestions for constraints and indexes based on the Encounter node and the data being loaded:\n",
            "\n",
            "Constraints:\n",
            "- :Encounter(Id) REQUIRE: This constraint ensures that each Encounter node has a unique ID property.\n",
            "\n",
            "Indexes:\n",
            "- :Encounter(Id): This index can help optimize queries that involve specific Encounter IDs.\n",
            "\n",
            "To create these constraints and indexes, you can use the following Cypher code:\n",
            "\n",
            "```\n",
            "// Create constraints\n",
            "CREATE CONSTRAINT ON (e:Encounter) ASSERT e.Id IS UNIQUE\n",
            "\n",
            "// Create indexes\n",
            "CREATE INDEX ON :Encounter(Id)\n",
            "```\n",
            "\n",
            "Note that the ASSERT keyword has been replaced with REQUIRE in newer versions of Neo4j, as you mentioned. The REQUIRE keyword works in the same way as ASSERT, but with a slightly different syntax.\n"
          ]
        }
      ]
    },
    {
      "cell_type": "markdown",
      "id": "694e84b1-181a-4fa6-8706-776a50f613e0",
      "metadata": {
        "id": "694e84b1-181a-4fa6-8706-776a50f613e0"
      },
      "source": [
        "## Create Encounter Index and Constraints"
      ]
    },
    {
      "cell_type": "code",
      "execution_count": 39,
      "id": "e0d665b5-a263-4508-b935-c96133e562ee",
      "metadata": {
        "colab": {
          "base_uri": "https://localhost:8080/",
          "height": 49
        },
        "id": "e0d665b5-a263-4508-b935-c96133e562ee",
        "outputId": "86f8e5a6-0a9b-468d-e0a9-6cd34c7dac2c"
      },
      "outputs": [
        {
          "output_type": "execute_result",
          "data": {
            "text/plain": [
              "Empty DataFrame\n",
              "Columns: []\n",
              "Index: []"
            ],
            "text/html": [
              "\n",
              "  <div id=\"df-070d75eb-2857-4f6c-959e-7fadb085ecb9\">\n",
              "    <div class=\"colab-df-container\">\n",
              "      <div>\n",
              "<style scoped>\n",
              "    .dataframe tbody tr th:only-of-type {\n",
              "        vertical-align: middle;\n",
              "    }\n",
              "\n",
              "    .dataframe tbody tr th {\n",
              "        vertical-align: top;\n",
              "    }\n",
              "\n",
              "    .dataframe thead th {\n",
              "        text-align: right;\n",
              "    }\n",
              "</style>\n",
              "<table border=\"1\" class=\"dataframe\">\n",
              "  <thead>\n",
              "    <tr style=\"text-align: right;\">\n",
              "      <th></th>\n",
              "    </tr>\n",
              "  </thead>\n",
              "  <tbody>\n",
              "  </tbody>\n",
              "</table>\n",
              "</div>\n",
              "      <button class=\"colab-df-convert\" onclick=\"convertToInteractive('df-070d75eb-2857-4f6c-959e-7fadb085ecb9')\"\n",
              "              title=\"Convert this dataframe to an interactive table.\"\n",
              "              style=\"display:none;\">\n",
              "        \n",
              "  <svg xmlns=\"http://www.w3.org/2000/svg\" height=\"24px\"viewBox=\"0 0 24 24\"\n",
              "       width=\"24px\">\n",
              "    <path d=\"M0 0h24v24H0V0z\" fill=\"none\"/>\n",
              "    <path d=\"M18.56 5.44l.94 2.06.94-2.06 2.06-.94-2.06-.94-.94-2.06-.94 2.06-2.06.94zm-11 1L8.5 8.5l.94-2.06 2.06-.94-2.06-.94L8.5 2.5l-.94 2.06-2.06.94zm10 10l.94 2.06.94-2.06 2.06-.94-2.06-.94-.94-2.06-.94 2.06-2.06.94z\"/><path d=\"M17.41 7.96l-1.37-1.37c-.4-.4-.92-.59-1.43-.59-.52 0-1.04.2-1.43.59L10.3 9.45l-7.72 7.72c-.78.78-.78 2.05 0 2.83L4 21.41c.39.39.9.59 1.41.59.51 0 1.02-.2 1.41-.59l7.78-7.78 2.81-2.81c.8-.78.8-2.07 0-2.86zM5.41 20L4 18.59l7.72-7.72 1.47 1.35L5.41 20z\"/>\n",
              "  </svg>\n",
              "      </button>\n",
              "      \n",
              "  <style>\n",
              "    .colab-df-container {\n",
              "      display:flex;\n",
              "      flex-wrap:wrap;\n",
              "      gap: 12px;\n",
              "    }\n",
              "\n",
              "    .colab-df-convert {\n",
              "      background-color: #E8F0FE;\n",
              "      border: none;\n",
              "      border-radius: 50%;\n",
              "      cursor: pointer;\n",
              "      display: none;\n",
              "      fill: #1967D2;\n",
              "      height: 32px;\n",
              "      padding: 0 0 0 0;\n",
              "      width: 32px;\n",
              "    }\n",
              "\n",
              "    .colab-df-convert:hover {\n",
              "      background-color: #E2EBFA;\n",
              "      box-shadow: 0px 1px 2px rgba(60, 64, 67, 0.3), 0px 1px 3px 1px rgba(60, 64, 67, 0.15);\n",
              "      fill: #174EA6;\n",
              "    }\n",
              "\n",
              "    [theme=dark] .colab-df-convert {\n",
              "      background-color: #3B4455;\n",
              "      fill: #D2E3FC;\n",
              "    }\n",
              "\n",
              "    [theme=dark] .colab-df-convert:hover {\n",
              "      background-color: #434B5C;\n",
              "      box-shadow: 0px 1px 3px 1px rgba(0, 0, 0, 0.15);\n",
              "      filter: drop-shadow(0px 1px 2px rgba(0, 0, 0, 0.3));\n",
              "      fill: #FFFFFF;\n",
              "    }\n",
              "  </style>\n",
              "\n",
              "      <script>\n",
              "        const buttonEl =\n",
              "          document.querySelector('#df-070d75eb-2857-4f6c-959e-7fadb085ecb9 button.colab-df-convert');\n",
              "        buttonEl.style.display =\n",
              "          google.colab.kernel.accessAllowed ? 'block' : 'none';\n",
              "\n",
              "        async function convertToInteractive(key) {\n",
              "          const element = document.querySelector('#df-070d75eb-2857-4f6c-959e-7fadb085ecb9');\n",
              "          const dataTable =\n",
              "            await google.colab.kernel.invokeFunction('convertToInteractive',\n",
              "                                                     [key], {});\n",
              "          if (!dataTable) return;\n",
              "\n",
              "          const docLinkHtml = 'Like what you see? Visit the ' +\n",
              "            '<a target=\"_blank\" href=https://colab.research.google.com/notebooks/data_table.ipynb>data table notebook</a>'\n",
              "            + ' to learn more about interactive tables.';\n",
              "          element.innerHTML = '';\n",
              "          dataTable['output_type'] = 'display_data';\n",
              "          await google.colab.output.renderOutput(dataTable, element);\n",
              "          const docLink = document.createElement('div');\n",
              "          docLink.innerHTML = docLinkHtml;\n",
              "          element.appendChild(docLink);\n",
              "        }\n",
              "      </script>\n",
              "    </div>\n",
              "  </div>\n",
              "  "
            ]
          },
          "metadata": {},
          "execution_count": 39
        }
      ],
      "source": [
        "gds.run_cypher('''CREATE INDEX encounter_id IF NOT EXISTS FOR (n:Encounter) ON n.id''')\n",
        "gds.run_cypher('''CREATE CONSTRAINT snomed_id IF NOT EXISTS FOR (n:SNOMED_CT) REQUIRE n.code IS UNIQUE''')"
      ]
    },
    {
      "cell_type": "markdown",
      "id": "437767f6-8e71-460c-8ed2-ecd3f2538921",
      "metadata": {
        "id": "437767f6-8e71-460c-8ed2-ecd3f2538921"
      },
      "source": [
        "## Import Encounter Data and Relationships\n",
        "The code ChatGPT provided is pretty good, and seems to be a roughly 80% solution, but it does not capture everything in the code provided in Graph Data Processing with Cypher. Therefore we will stick with the code provided in Ravi's book for our data load. "
      ]
    },
    {
      "cell_type": "code",
      "execution_count": 40,
      "id": "2165556b-ab5e-4f94-b46a-f19407618102",
      "metadata": {
        "colab": {
          "base_uri": "https://localhost:8080/",
          "height": 49
        },
        "id": "2165556b-ab5e-4f94-b46a-f19407618102",
        "outputId": "c9893a9f-8f35-467a-db02-ef74b212f757"
      },
      "outputs": [
        {
          "output_type": "execute_result",
          "data": {
            "text/plain": [
              "Empty DataFrame\n",
              "Columns: []\n",
              "Index: []"
            ],
            "text/html": [
              "\n",
              "  <div id=\"df-880e2971-6bd1-4376-9257-4e5cfb13a1a5\">\n",
              "    <div class=\"colab-df-container\">\n",
              "      <div>\n",
              "<style scoped>\n",
              "    .dataframe tbody tr th:only-of-type {\n",
              "        vertical-align: middle;\n",
              "    }\n",
              "\n",
              "    .dataframe tbody tr th {\n",
              "        vertical-align: top;\n",
              "    }\n",
              "\n",
              "    .dataframe thead th {\n",
              "        text-align: right;\n",
              "    }\n",
              "</style>\n",
              "<table border=\"1\" class=\"dataframe\">\n",
              "  <thead>\n",
              "    <tr style=\"text-align: right;\">\n",
              "      <th></th>\n",
              "    </tr>\n",
              "  </thead>\n",
              "  <tbody>\n",
              "  </tbody>\n",
              "</table>\n",
              "</div>\n",
              "      <button class=\"colab-df-convert\" onclick=\"convertToInteractive('df-880e2971-6bd1-4376-9257-4e5cfb13a1a5')\"\n",
              "              title=\"Convert this dataframe to an interactive table.\"\n",
              "              style=\"display:none;\">\n",
              "        \n",
              "  <svg xmlns=\"http://www.w3.org/2000/svg\" height=\"24px\"viewBox=\"0 0 24 24\"\n",
              "       width=\"24px\">\n",
              "    <path d=\"M0 0h24v24H0V0z\" fill=\"none\"/>\n",
              "    <path d=\"M18.56 5.44l.94 2.06.94-2.06 2.06-.94-2.06-.94-.94-2.06-.94 2.06-2.06.94zm-11 1L8.5 8.5l.94-2.06 2.06-.94-2.06-.94L8.5 2.5l-.94 2.06-2.06.94zm10 10l.94 2.06.94-2.06 2.06-.94-2.06-.94-.94-2.06-.94 2.06-2.06.94z\"/><path d=\"M17.41 7.96l-1.37-1.37c-.4-.4-.92-.59-1.43-.59-.52 0-1.04.2-1.43.59L10.3 9.45l-7.72 7.72c-.78.78-.78 2.05 0 2.83L4 21.41c.39.39.9.59 1.41.59.51 0 1.02-.2 1.41-.59l7.78-7.78 2.81-2.81c.8-.78.8-2.07 0-2.86zM5.41 20L4 18.59l7.72-7.72 1.47 1.35L5.41 20z\"/>\n",
              "  </svg>\n",
              "      </button>\n",
              "      \n",
              "  <style>\n",
              "    .colab-df-container {\n",
              "      display:flex;\n",
              "      flex-wrap:wrap;\n",
              "      gap: 12px;\n",
              "    }\n",
              "\n",
              "    .colab-df-convert {\n",
              "      background-color: #E8F0FE;\n",
              "      border: none;\n",
              "      border-radius: 50%;\n",
              "      cursor: pointer;\n",
              "      display: none;\n",
              "      fill: #1967D2;\n",
              "      height: 32px;\n",
              "      padding: 0 0 0 0;\n",
              "      width: 32px;\n",
              "    }\n",
              "\n",
              "    .colab-df-convert:hover {\n",
              "      background-color: #E2EBFA;\n",
              "      box-shadow: 0px 1px 2px rgba(60, 64, 67, 0.3), 0px 1px 3px 1px rgba(60, 64, 67, 0.15);\n",
              "      fill: #174EA6;\n",
              "    }\n",
              "\n",
              "    [theme=dark] .colab-df-convert {\n",
              "      background-color: #3B4455;\n",
              "      fill: #D2E3FC;\n",
              "    }\n",
              "\n",
              "    [theme=dark] .colab-df-convert:hover {\n",
              "      background-color: #434B5C;\n",
              "      box-shadow: 0px 1px 3px 1px rgba(0, 0, 0, 0.15);\n",
              "      filter: drop-shadow(0px 1px 2px rgba(0, 0, 0, 0.3));\n",
              "      fill: #FFFFFF;\n",
              "    }\n",
              "  </style>\n",
              "\n",
              "      <script>\n",
              "        const buttonEl =\n",
              "          document.querySelector('#df-880e2971-6bd1-4376-9257-4e5cfb13a1a5 button.colab-df-convert');\n",
              "        buttonEl.style.display =\n",
              "          google.colab.kernel.accessAllowed ? 'block' : 'none';\n",
              "\n",
              "        async function convertToInteractive(key) {\n",
              "          const element = document.querySelector('#df-880e2971-6bd1-4376-9257-4e5cfb13a1a5');\n",
              "          const dataTable =\n",
              "            await google.colab.kernel.invokeFunction('convertToInteractive',\n",
              "                                                     [key], {});\n",
              "          if (!dataTable) return;\n",
              "\n",
              "          const docLinkHtml = 'Like what you see? Visit the ' +\n",
              "            '<a target=\"_blank\" href=https://colab.research.google.com/notebooks/data_table.ipynb>data table notebook</a>'\n",
              "            + ' to learn more about interactive tables.';\n",
              "          element.innerHTML = '';\n",
              "          dataTable['output_type'] = 'display_data';\n",
              "          await google.colab.output.renderOutput(dataTable, element);\n",
              "          const docLink = document.createElement('div');\n",
              "          docLink.innerHTML = docLinkHtml;\n",
              "          element.appendChild(docLink);\n",
              "        }\n",
              "      </script>\n",
              "    </div>\n",
              "  </div>\n",
              "  "
            ]
          },
          "metadata": {},
          "execution_count": 40
        }
      ],
      "source": [
        "gds.run_cypher('''\n",
        "CYPHER runtime=slotted\n",
        "\n",
        "UNWIND $encounters_data AS row\n",
        "CALL {\n",
        "WITH row\n",
        "MERGE(e:Encounter {id: row.Id})\n",
        "SET\n",
        "    e.date=datetime(row.START),\n",
        "    e.description=row.DESCRIPTION,\n",
        "    e.totalCost = row.TOTAL_CLAIM_COST,\n",
        "    e.isEnd = false\n",
        "\n",
        "FOREACH (ignore in CASE WHEN row.STOP IS NOT NULL AND row.STOP <> '' THEN [1] ELSE [] END |\n",
        "         SET e.end=datetime(row.STOP)\n",
        "    )\n",
        "FOREACH (ignore in CASE WHEN row.CODE IS NOT NULL AND row.CODE <> '' THEN [1] ELSE [] END |\n",
        "         MERGE(s:SNOMED_CT {code:row.CODE})\n",
        "         MERGE(e)-[:OF_TYPE]->(s)\n",
        "    )\n",
        "WITH row,e\n",
        "CALL apoc.create.setLabels( e, [ 'Encounter', toUpper(left(row.ENCOUNTERCLASS, 1)) + right(row.ENCOUNTERCLASS, size(row.ENCOUNTERCLASS) - 1) ] ) \n",
        "YIELD node\n",
        "    \n",
        "WITH row,e\n",
        "MERGE(p:Patient {id: row.PATIENT})\n",
        "MERGE (p)-[:HAS_ENCOUNTER]->(e)\n",
        "\n",
        "} IN TRANSACTIONS OF 1000 ROWS\n",
        "''', {'encounters_data': encounters_df.to_dict('records')})"
      ]
    },
    {
      "cell_type": "markdown",
      "id": "7d263c37",
      "metadata": {
        "id": "7d263c37"
      },
      "source": [
        "# Load Procedures Data into Neo4j"
      ]
    },
    {
      "cell_type": "markdown",
      "source": [
        "## Ask ChatGPT Specific Questions"
      ],
      "metadata": {
        "id": "geCCJ15XWP16"
      },
      "id": "geCCJ15XWP16"
    },
    {
      "cell_type": "code",
      "source": [
        "procedures_df.head()"
      ],
      "metadata": {
        "colab": {
          "base_uri": "https://localhost:8080/",
          "height": 206
        },
        "id": "-CkUQaPfomCH",
        "outputId": "90464199-756f-4ae8-b519-36e07e0473e2"
      },
      "id": "-CkUQaPfomCH",
      "execution_count": 41,
      "outputs": [
        {
          "output_type": "execute_result",
          "data": {
            "text/plain": [
              "                  START                  STOP  \\\n",
              "0  2013-07-24T11:27:37Z  2013-07-24T11:57:37Z   \n",
              "1  2013-07-24T11:27:37Z  2013-07-24T12:53:37Z   \n",
              "2  2013-05-10T11:35:37Z  2013-05-10T11:46:01Z   \n",
              "3  2013-08-09T11:35:37Z  2013-08-09T11:47:00Z   \n",
              "4  2013-11-08T11:35:37Z  2013-11-08T11:46:18Z   \n",
              "\n",
              "                                PATIENT                             ENCOUNTER  \\\n",
              "0  faf277d8-c5c7-406c-f139-9143c35ff4e8  eebc17d4-d133-24f2-3502-a3640d3feaba   \n",
              "1  faf277d8-c5c7-406c-f139-9143c35ff4e8  eebc17d4-d133-24f2-3502-a3640d3feaba   \n",
              "2  75bef938-819a-ce94-8dc9-17dc50077a86  b4b95687-00df-e1e6-60ec-503775b3139d   \n",
              "3  75bef938-819a-ce94-8dc9-17dc50077a86  ddaa6f93-2b5f-d549-90f3-c05323396ef6   \n",
              "4  75bef938-819a-ce94-8dc9-17dc50077a86  6569b92d-1c2b-2a2f-b4bc-797f8aedaf88   \n",
              "\n",
              "        CODE                         DESCRIPTION  BASE_COST   REASONCODE  \\\n",
              "0  268425006                        Pelvis X-ray     431.40                \n",
              "1  305428000  Admission to orthopedic department     431.40  359817006.0   \n",
              "2   76601001             Intramuscular injection    3186.39                \n",
              "3   76601001             Intramuscular injection    3012.75                \n",
              "4   76601001             Intramuscular injection    4077.14                \n",
              "\n",
              "        REASONDESCRIPTION  \n",
              "0                          \n",
              "1  Closed fracture of hip  \n",
              "2                          \n",
              "3                          \n",
              "4                          "
            ],
            "text/html": [
              "\n",
              "  <div id=\"df-0a6cf3ea-f9b7-4f2f-9b37-cdb979b1d89c\">\n",
              "    <div class=\"colab-df-container\">\n",
              "      <div>\n",
              "<style scoped>\n",
              "    .dataframe tbody tr th:only-of-type {\n",
              "        vertical-align: middle;\n",
              "    }\n",
              "\n",
              "    .dataframe tbody tr th {\n",
              "        vertical-align: top;\n",
              "    }\n",
              "\n",
              "    .dataframe thead th {\n",
              "        text-align: right;\n",
              "    }\n",
              "</style>\n",
              "<table border=\"1\" class=\"dataframe\">\n",
              "  <thead>\n",
              "    <tr style=\"text-align: right;\">\n",
              "      <th></th>\n",
              "      <th>START</th>\n",
              "      <th>STOP</th>\n",
              "      <th>PATIENT</th>\n",
              "      <th>ENCOUNTER</th>\n",
              "      <th>CODE</th>\n",
              "      <th>DESCRIPTION</th>\n",
              "      <th>BASE_COST</th>\n",
              "      <th>REASONCODE</th>\n",
              "      <th>REASONDESCRIPTION</th>\n",
              "    </tr>\n",
              "  </thead>\n",
              "  <tbody>\n",
              "    <tr>\n",
              "      <th>0</th>\n",
              "      <td>2013-07-24T11:27:37Z</td>\n",
              "      <td>2013-07-24T11:57:37Z</td>\n",
              "      <td>faf277d8-c5c7-406c-f139-9143c35ff4e8</td>\n",
              "      <td>eebc17d4-d133-24f2-3502-a3640d3feaba</td>\n",
              "      <td>268425006</td>\n",
              "      <td>Pelvis X-ray</td>\n",
              "      <td>431.40</td>\n",
              "      <td></td>\n",
              "      <td></td>\n",
              "    </tr>\n",
              "    <tr>\n",
              "      <th>1</th>\n",
              "      <td>2013-07-24T11:27:37Z</td>\n",
              "      <td>2013-07-24T12:53:37Z</td>\n",
              "      <td>faf277d8-c5c7-406c-f139-9143c35ff4e8</td>\n",
              "      <td>eebc17d4-d133-24f2-3502-a3640d3feaba</td>\n",
              "      <td>305428000</td>\n",
              "      <td>Admission to orthopedic department</td>\n",
              "      <td>431.40</td>\n",
              "      <td>359817006.0</td>\n",
              "      <td>Closed fracture of hip</td>\n",
              "    </tr>\n",
              "    <tr>\n",
              "      <th>2</th>\n",
              "      <td>2013-05-10T11:35:37Z</td>\n",
              "      <td>2013-05-10T11:46:01Z</td>\n",
              "      <td>75bef938-819a-ce94-8dc9-17dc50077a86</td>\n",
              "      <td>b4b95687-00df-e1e6-60ec-503775b3139d</td>\n",
              "      <td>76601001</td>\n",
              "      <td>Intramuscular injection</td>\n",
              "      <td>3186.39</td>\n",
              "      <td></td>\n",
              "      <td></td>\n",
              "    </tr>\n",
              "    <tr>\n",
              "      <th>3</th>\n",
              "      <td>2013-08-09T11:35:37Z</td>\n",
              "      <td>2013-08-09T11:47:00Z</td>\n",
              "      <td>75bef938-819a-ce94-8dc9-17dc50077a86</td>\n",
              "      <td>ddaa6f93-2b5f-d549-90f3-c05323396ef6</td>\n",
              "      <td>76601001</td>\n",
              "      <td>Intramuscular injection</td>\n",
              "      <td>3012.75</td>\n",
              "      <td></td>\n",
              "      <td></td>\n",
              "    </tr>\n",
              "    <tr>\n",
              "      <th>4</th>\n",
              "      <td>2013-11-08T11:35:37Z</td>\n",
              "      <td>2013-11-08T11:46:18Z</td>\n",
              "      <td>75bef938-819a-ce94-8dc9-17dc50077a86</td>\n",
              "      <td>6569b92d-1c2b-2a2f-b4bc-797f8aedaf88</td>\n",
              "      <td>76601001</td>\n",
              "      <td>Intramuscular injection</td>\n",
              "      <td>4077.14</td>\n",
              "      <td></td>\n",
              "      <td></td>\n",
              "    </tr>\n",
              "  </tbody>\n",
              "</table>\n",
              "</div>\n",
              "      <button class=\"colab-df-convert\" onclick=\"convertToInteractive('df-0a6cf3ea-f9b7-4f2f-9b37-cdb979b1d89c')\"\n",
              "              title=\"Convert this dataframe to an interactive table.\"\n",
              "              style=\"display:none;\">\n",
              "        \n",
              "  <svg xmlns=\"http://www.w3.org/2000/svg\" height=\"24px\"viewBox=\"0 0 24 24\"\n",
              "       width=\"24px\">\n",
              "    <path d=\"M0 0h24v24H0V0z\" fill=\"none\"/>\n",
              "    <path d=\"M18.56 5.44l.94 2.06.94-2.06 2.06-.94-2.06-.94-.94-2.06-.94 2.06-2.06.94zm-11 1L8.5 8.5l.94-2.06 2.06-.94-2.06-.94L8.5 2.5l-.94 2.06-2.06.94zm10 10l.94 2.06.94-2.06 2.06-.94-2.06-.94-.94-2.06-.94 2.06-2.06.94z\"/><path d=\"M17.41 7.96l-1.37-1.37c-.4-.4-.92-.59-1.43-.59-.52 0-1.04.2-1.43.59L10.3 9.45l-7.72 7.72c-.78.78-.78 2.05 0 2.83L4 21.41c.39.39.9.59 1.41.59.51 0 1.02-.2 1.41-.59l7.78-7.78 2.81-2.81c.8-.78.8-2.07 0-2.86zM5.41 20L4 18.59l7.72-7.72 1.47 1.35L5.41 20z\"/>\n",
              "  </svg>\n",
              "      </button>\n",
              "      \n",
              "  <style>\n",
              "    .colab-df-container {\n",
              "      display:flex;\n",
              "      flex-wrap:wrap;\n",
              "      gap: 12px;\n",
              "    }\n",
              "\n",
              "    .colab-df-convert {\n",
              "      background-color: #E8F0FE;\n",
              "      border: none;\n",
              "      border-radius: 50%;\n",
              "      cursor: pointer;\n",
              "      display: none;\n",
              "      fill: #1967D2;\n",
              "      height: 32px;\n",
              "      padding: 0 0 0 0;\n",
              "      width: 32px;\n",
              "    }\n",
              "\n",
              "    .colab-df-convert:hover {\n",
              "      background-color: #E2EBFA;\n",
              "      box-shadow: 0px 1px 2px rgba(60, 64, 67, 0.3), 0px 1px 3px 1px rgba(60, 64, 67, 0.15);\n",
              "      fill: #174EA6;\n",
              "    }\n",
              "\n",
              "    [theme=dark] .colab-df-convert {\n",
              "      background-color: #3B4455;\n",
              "      fill: #D2E3FC;\n",
              "    }\n",
              "\n",
              "    [theme=dark] .colab-df-convert:hover {\n",
              "      background-color: #434B5C;\n",
              "      box-shadow: 0px 1px 3px 1px rgba(0, 0, 0, 0.15);\n",
              "      filter: drop-shadow(0px 1px 2px rgba(0, 0, 0, 0.3));\n",
              "      fill: #FFFFFF;\n",
              "    }\n",
              "  </style>\n",
              "\n",
              "      <script>\n",
              "        const buttonEl =\n",
              "          document.querySelector('#df-0a6cf3ea-f9b7-4f2f-9b37-cdb979b1d89c button.colab-df-convert');\n",
              "        buttonEl.style.display =\n",
              "          google.colab.kernel.accessAllowed ? 'block' : 'none';\n",
              "\n",
              "        async function convertToInteractive(key) {\n",
              "          const element = document.querySelector('#df-0a6cf3ea-f9b7-4f2f-9b37-cdb979b1d89c');\n",
              "          const dataTable =\n",
              "            await google.colab.kernel.invokeFunction('convertToInteractive',\n",
              "                                                     [key], {});\n",
              "          if (!dataTable) return;\n",
              "\n",
              "          const docLinkHtml = 'Like what you see? Visit the ' +\n",
              "            '<a target=\"_blank\" href=https://colab.research.google.com/notebooks/data_table.ipynb>data table notebook</a>'\n",
              "            + ' to learn more about interactive tables.';\n",
              "          element.innerHTML = '';\n",
              "          dataTable['output_type'] = 'display_data';\n",
              "          await google.colab.output.renderOutput(dataTable, element);\n",
              "          const docLink = document.createElement('div');\n",
              "          docLink.innerHTML = docLinkHtml;\n",
              "          element.appendChild(docLink);\n",
              "        }\n",
              "      </script>\n",
              "    </div>\n",
              "  </div>\n",
              "  "
            ]
          },
          "metadata": {},
          "execution_count": 41
        }
      ]
    },
    {
      "cell_type": "code",
      "source": [
        "# drop the first chats due to token limits\n",
        "message_history = message_history[5:]"
      ],
      "metadata": {
        "id": "fZ7ElemhooZ9"
      },
      "id": "fZ7ElemhooZ9",
      "execution_count": 42,
      "outputs": []
    },
    {
      "cell_type": "code",
      "source": [
        "prompt = f\"\"\"\n",
        "Continuing the conversation. I am going to load the procedure data into Neo4j from \n",
        "the procedures_df dataframe I shared earlier. I would like to use the following steps\n",
        "for each row of the procedures_df dataframe:\\n\n",
        "####\n",
        "1. Match to an existing Patient node using the Id property and the \"PATIENT\" feature in procedures_df.\n",
        "2. Match the SNOMED_CT matching its 'code' property to the \"CODE\" feature in procedures_df. \n",
        "Create a new SNOMED_CT node with the 'code' property if one does not exist for this code. \n",
        "3. Set a 'description' property on the SNOMED_CT node using the 'Description' feature in procedures_df.\n",
        "4. Set a secondary \"Procedure\" label on the SNOMED_CT code to identify it as a procedure.\n",
        "5. Match the Encounter node on its 'id' property with the \"ENCOUNTER\" feature of procedures_df.\n",
        "If the Encounter node does not exist, create a new Encounter node with \"ENCOUNTER\" as the id \n",
        "and a 'date' as the \"START\" feature. \n",
        "6. Match the Patient node with the Encounter node using a HAS_ENCOUNTER relationship.\n",
        "7. Match that Encounter node with the Procedure node using a HAS_PROCEDURE relationship.\n",
        "####\n",
        "\\n\n",
        "\n",
        "Please provide me with Cypher code to load this data into Neo4j. \n",
        "Please also provide an explanation for the code to help me understand it.\n",
        "\"\"\"\n",
        "\n",
        "message_history, response_text = submit_query_and_append(prompt, message_history)\n",
        "\n",
        "print(response_text)"
      ],
      "metadata": {
        "colab": {
          "base_uri": "https://localhost:8080/"
        },
        "id": "o0LyP2h-ooS6",
        "outputId": "11fbb8c9-fcc5-4972-911d-6427f9f71180"
      },
      "id": "o0LyP2h-ooS6",
      "execution_count": 43,
      "outputs": [
        {
          "output_type": "stream",
          "name": "stdout",
          "text": [
            "Sure, here is the Cypher code to load the procedure data into Neo4j:\n",
            "\n",
            "```\n",
            "// Create or update SNOMED_CT nodes and add Procedure label\n",
            "LOAD CSV WITH HEADERS FROM 'file:///procedures.csv' AS row\n",
            "MERGE (s:SNOMED_CT {code: row.CODE})\n",
            "ON CREATE SET s.description = row.Description\n",
            "SET s:Procedure\n",
            "\n",
            "// Create or update Encounter nodes and connect to Patient nodes\n",
            "LOAD CSV WITH HEADERS FROM 'file:///procedures.csv' AS row\n",
            "MERGE (e:Encounter {Id: row.ENCOUNTER})\n",
            "ON CREATE SET e.START = row.START\n",
            "MERGE (p:Patient {Id: row.PATIENT})\n",
            "MERGE (p)-[:HAS_ENCOUNTER]->(e)\n",
            "\n",
            "// Connect Encounter nodes to Procedure nodes\n",
            "LOAD CSV WITH HEADERS FROM 'file:///procedures.csv' AS row\n",
            "MATCH (e:Encounter {Id: row.ENCOUNTER})\n",
            "MATCH (s:SNOMED_CT {code: row.CODE})\n",
            "MERGE (e)-[:HAS_PROCEDURE]->(s)\n",
            "```\n",
            "\n",
            "Explanation:\n",
            "- The first section of the code creates or updates SNOMED_CT nodes by loading the \"procedures.csv\" file and merging a new node for each unique SNOMED_CT code found in the file. If a node already exists for a given code, its description property is updated with the corresponding value from the CSV file. The SNOMED_CT node is also given a secondary \"Procedure\" label to identify it as a procedure.\n",
            "- The second section of the code creates or updates Encounter nodes by loading the \"procedures.csv\" file and merging a new node for each unique Encounter ID found in the file. If a node already exists for a given ID, its START property is updated with the corresponding value from the CSV file. The Encounter node is then connected to the corresponding Patient node using the MERGE keyword to ensure that each relationship is only created once.\n",
            "- The third section of the code connects Encounter nodes to Procedure nodes by loading the \"procedures.csv\" file and matching each row to the corresponding Encounter and SNOMED_CT nodes. The HAS_PROCEDURE relationship is then created between the two nodes using the MERGE keyword to ensure that each relationship is only created once.\n",
            "\n",
            "Note that if a SNOMED_CT node does not exist for a given code in the CSV file, it will be created with a null description property. You can modify the code to set a default description value if desired.\n"
          ]
        }
      ]
    },
    {
      "cell_type": "code",
      "source": [
        "prompt = f\"\"\"\n",
        "Continuing the conversation, the code you provided is a good start but does not seem \n",
        "to follow the instructions. Let me clarify -- for each row in the dataframe, complete the \n",
        "seven steps I listed in order. I want to match and create nodes only when required, as I \n",
        "process each individual row in the procedure_df data.\n",
        "\n",
        "Please provide updated Cypher code to perform these steps as defined.\n",
        "\"\"\"\n",
        "\n",
        "message_history, response_text = submit_query_and_append(prompt, message_history)\n",
        "\n",
        "print(response_text)"
      ],
      "metadata": {
        "colab": {
          "base_uri": "https://localhost:8080/"
        },
        "id": "L3I0X-s1ooMA",
        "outputId": "c8e2fbd7-5b6a-4eeb-bea6-a8eff442dec3"
      },
      "id": "L3I0X-s1ooMA",
      "execution_count": 44,
      "outputs": [
        {
          "output_type": "stream",
          "name": "stdout",
          "text": [
            "Apologies for the confusion. Here is the updated Cypher code that follows the steps you provided for each row in the procedures_df dataframe:\n",
            "\n",
            "```\n",
            "// For each row in procedures_df, match or create Patient node\n",
            "LOAD CSV WITH HEADERS FROM 'file:///procedures.csv' AS row\n",
            "MERGE (p:Patient {Id: row.PATIENT})\n",
            "\n",
            "// For each row in procedures_df, match or create Encounter node and connect to Patient node\n",
            "LOAD CSV WITH HEADERS FROM 'file:///procedures.csv' AS row\n",
            "MATCH (p:Patient {Id: row.PATIENT})\n",
            "MERGE (e:Encounter {Id: row.ENCOUNTER})\n",
            "ON CREATE SET e.START = row.START\n",
            "MERGE (p)-[:HAS_ENCOUNTER]->(e)\n",
            "\n",
            "// For each row in procedures_df, match or create SNOMED_CT node and connect to Encounter node\n",
            "LOAD CSV WITH HEADERS FROM 'file:///procedures.csv' AS row\n",
            "MATCH (e:Encounter {Id: row.ENCOUNTER})\n",
            "MERGE (s:SNOMED_CT {code: row.CODE})\n",
            "ON CREATE SET s.description = row.Description, s:Procedure\n",
            "MERGE (e)-[:HAS_PROCEDURE]->(s)\n",
            "```\n",
            "\n",
            "Explanation:\n",
            "- The first section of the code matches or creates a Patient node for each row in the procedures_df dataframe. This is done using the MERGE keyword to ensure that each node is only created once.\n",
            "- The second section of the code matches or creates an Encounter node for each row in the procedures_df dataframe, and connects it to the corresponding Patient node using the HAS_ENCOUNTER relationship. This is done using the MERGE keyword to ensure that each node and relationship is only created once. If a new Encounter node is created, its START property is set to the corresponding value from the CSV file.\n",
            "- The third section of the code matches or creates a SNOMED_CT node for each row in the procedures_df dataframe, and connects it to the corresponding Encounter node using the HAS_PROCEDURE relationship. This is done using the MERGE keyword to ensure that each node and relationship is only created once. If a new SNOMED_CT node is created, its description property is set to the corresponding value from the CSV file, and it is given a secondary \"Procedure\" label to identify it as a procedure.\n",
            "\n",
            "Note that the code assumes that the Patient and Encounter nodes are unique based on their ID properties, and that the SNOMED_CT nodes are unique based on their code properties. If this is not the case, you may need to modify the code to ensure uniqueness.\n"
          ]
        }
      ]
    },
    {
      "cell_type": "markdown",
      "source": [
        "## Import Procedures Data and Relationships"
      ],
      "metadata": {
        "id": "VlS_8i4IWY6p"
      },
      "id": "VlS_8i4IWY6p"
    },
    {
      "cell_type": "markdown",
      "source": [
        "As with before, the Cypher is an okay start, but still has limitations and is not what we would be able to use for our actual data loading. As I am creating this notebook, I am seeing it is likely a combination of the prompts (and clarifications) along with limits with ChatGPT. \n",
        "\n",
        "As with before, we will stick to the code provided in Graph Data Processing with Cypher. "
      ],
      "metadata": {
        "id": "LMP-bJRronh8"
      },
      "id": "LMP-bJRronh8"
    },
    {
      "cell_type": "code",
      "execution_count": 45,
      "id": "0052cc2e-4cdd-402c-8134-8e7a86878543",
      "metadata": {
        "colab": {
          "base_uri": "https://localhost:8080/",
          "height": 49
        },
        "id": "0052cc2e-4cdd-402c-8134-8e7a86878543",
        "outputId": "1e3b551b-ab77-44a4-db79-4d5c9c842062"
      },
      "outputs": [
        {
          "output_type": "execute_result",
          "data": {
            "text/plain": [
              "Empty DataFrame\n",
              "Columns: []\n",
              "Index: []"
            ],
            "text/html": [
              "\n",
              "  <div id=\"df-a2d719be-1a30-4b91-b600-72f5fd71e6d6\">\n",
              "    <div class=\"colab-df-container\">\n",
              "      <div>\n",
              "<style scoped>\n",
              "    .dataframe tbody tr th:only-of-type {\n",
              "        vertical-align: middle;\n",
              "    }\n",
              "\n",
              "    .dataframe tbody tr th {\n",
              "        vertical-align: top;\n",
              "    }\n",
              "\n",
              "    .dataframe thead th {\n",
              "        text-align: right;\n",
              "    }\n",
              "</style>\n",
              "<table border=\"1\" class=\"dataframe\">\n",
              "  <thead>\n",
              "    <tr style=\"text-align: right;\">\n",
              "      <th></th>\n",
              "    </tr>\n",
              "  </thead>\n",
              "  <tbody>\n",
              "  </tbody>\n",
              "</table>\n",
              "</div>\n",
              "      <button class=\"colab-df-convert\" onclick=\"convertToInteractive('df-a2d719be-1a30-4b91-b600-72f5fd71e6d6')\"\n",
              "              title=\"Convert this dataframe to an interactive table.\"\n",
              "              style=\"display:none;\">\n",
              "        \n",
              "  <svg xmlns=\"http://www.w3.org/2000/svg\" height=\"24px\"viewBox=\"0 0 24 24\"\n",
              "       width=\"24px\">\n",
              "    <path d=\"M0 0h24v24H0V0z\" fill=\"none\"/>\n",
              "    <path d=\"M18.56 5.44l.94 2.06.94-2.06 2.06-.94-2.06-.94-.94-2.06-.94 2.06-2.06.94zm-11 1L8.5 8.5l.94-2.06 2.06-.94-2.06-.94L8.5 2.5l-.94 2.06-2.06.94zm10 10l.94 2.06.94-2.06 2.06-.94-2.06-.94-.94-2.06-.94 2.06-2.06.94z\"/><path d=\"M17.41 7.96l-1.37-1.37c-.4-.4-.92-.59-1.43-.59-.52 0-1.04.2-1.43.59L10.3 9.45l-7.72 7.72c-.78.78-.78 2.05 0 2.83L4 21.41c.39.39.9.59 1.41.59.51 0 1.02-.2 1.41-.59l7.78-7.78 2.81-2.81c.8-.78.8-2.07 0-2.86zM5.41 20L4 18.59l7.72-7.72 1.47 1.35L5.41 20z\"/>\n",
              "  </svg>\n",
              "      </button>\n",
              "      \n",
              "  <style>\n",
              "    .colab-df-container {\n",
              "      display:flex;\n",
              "      flex-wrap:wrap;\n",
              "      gap: 12px;\n",
              "    }\n",
              "\n",
              "    .colab-df-convert {\n",
              "      background-color: #E8F0FE;\n",
              "      border: none;\n",
              "      border-radius: 50%;\n",
              "      cursor: pointer;\n",
              "      display: none;\n",
              "      fill: #1967D2;\n",
              "      height: 32px;\n",
              "      padding: 0 0 0 0;\n",
              "      width: 32px;\n",
              "    }\n",
              "\n",
              "    .colab-df-convert:hover {\n",
              "      background-color: #E2EBFA;\n",
              "      box-shadow: 0px 1px 2px rgba(60, 64, 67, 0.3), 0px 1px 3px 1px rgba(60, 64, 67, 0.15);\n",
              "      fill: #174EA6;\n",
              "    }\n",
              "\n",
              "    [theme=dark] .colab-df-convert {\n",
              "      background-color: #3B4455;\n",
              "      fill: #D2E3FC;\n",
              "    }\n",
              "\n",
              "    [theme=dark] .colab-df-convert:hover {\n",
              "      background-color: #434B5C;\n",
              "      box-shadow: 0px 1px 3px 1px rgba(0, 0, 0, 0.15);\n",
              "      filter: drop-shadow(0px 1px 2px rgba(0, 0, 0, 0.3));\n",
              "      fill: #FFFFFF;\n",
              "    }\n",
              "  </style>\n",
              "\n",
              "      <script>\n",
              "        const buttonEl =\n",
              "          document.querySelector('#df-a2d719be-1a30-4b91-b600-72f5fd71e6d6 button.colab-df-convert');\n",
              "        buttonEl.style.display =\n",
              "          google.colab.kernel.accessAllowed ? 'block' : 'none';\n",
              "\n",
              "        async function convertToInteractive(key) {\n",
              "          const element = document.querySelector('#df-a2d719be-1a30-4b91-b600-72f5fd71e6d6');\n",
              "          const dataTable =\n",
              "            await google.colab.kernel.invokeFunction('convertToInteractive',\n",
              "                                                     [key], {});\n",
              "          if (!dataTable) return;\n",
              "\n",
              "          const docLinkHtml = 'Like what you see? Visit the ' +\n",
              "            '<a target=\"_blank\" href=https://colab.research.google.com/notebooks/data_table.ipynb>data table notebook</a>'\n",
              "            + ' to learn more about interactive tables.';\n",
              "          element.innerHTML = '';\n",
              "          dataTable['output_type'] = 'display_data';\n",
              "          await google.colab.output.renderOutput(dataTable, element);\n",
              "          const docLink = document.createElement('div');\n",
              "          docLink.innerHTML = docLinkHtml;\n",
              "          element.appendChild(docLink);\n",
              "        }\n",
              "      </script>\n",
              "    </div>\n",
              "  </div>\n",
              "  "
            ]
          },
          "metadata": {},
          "execution_count": 45
        }
      ],
      "source": [
        "gds.run_cypher('''\n",
        "CYPHER runtime=slotted\n",
        "\n",
        "UNWIND $procedures_data AS row\n",
        "CALL {\n",
        "WITH row\n",
        "MATCH (p:Patient {id:row.PATIENT})\n",
        "MERGE (c:SNOMED_CT {code:row.CODE})\n",
        "    SET c.description=row.DESCRIPTION, c:Procedure\n",
        "\n",
        "MERGE (cs:Encounter {id:row.ENCOUNTER, isEnd: false})\n",
        "  ON CREATE\n",
        "  SET cs.date=datetime(row.START)\n",
        "\n",
        "MERGE (p)-[:HAS_ENCOUNTER]->(cs)\n",
        "MERGE (cs)-[:HAS_PROCEDURE]->(c)\n",
        "} IN TRANSACTIONS OF 1000 ROWS\n",
        "''', {'procedures_data': procedures_df.to_dict('records')})"
      ]
    },
    {
      "cell_type": "markdown",
      "id": "44bb26f5",
      "metadata": {
        "id": "44bb26f5"
      },
      "source": [
        "# Load Medications Data into Neo4j"
      ]
    },
    {
      "cell_type": "markdown",
      "source": [
        "## Ask ChatGPT Specific Questions"
      ],
      "metadata": {
        "id": "6PXbvaIxWzNF"
      },
      "id": "6PXbvaIxWzNF"
    },
    {
      "cell_type": "code",
      "source": [
        "medications_df.head()"
      ],
      "metadata": {
        "colab": {
          "base_uri": "https://localhost:8080/",
          "height": 337
        },
        "id": "RSpbOGp7uyDY",
        "outputId": "60fd2cfe-ce4c-4cf4-b536-d4016745702e"
      },
      "id": "RSpbOGp7uyDY",
      "execution_count": 46,
      "outputs": [
        {
          "output_type": "execute_result",
          "data": {
            "text/plain": [
              "                  START                  STOP  \\\n",
              "0  2013-07-24T12:53:37Z  2013-08-20T11:16:28Z   \n",
              "1  2013-07-24T12:53:37Z  2013-10-01T12:53:37Z   \n",
              "2  2014-10-05T11:54:48Z  2015-09-30T11:54:48Z   \n",
              "3  2014-10-31T11:35:37Z  2014-11-21T11:35:37Z   \n",
              "4  2015-09-30T11:54:48Z  2016-04-01T11:35:37Z   \n",
              "\n",
              "                                PATIENT                                 PAYER  \\\n",
              "0  faf277d8-c5c7-406c-f139-9143c35ff4e8  df166300-5a78-3502-a46a-832842197811   \n",
              "1  faf277d8-c5c7-406c-f139-9143c35ff4e8  df166300-5a78-3502-a46a-832842197811   \n",
              "2  75bef938-819a-ce94-8dc9-17dc50077a86  0133f751-9229-3cfd-815f-b6d4979bdd6a   \n",
              "3  75bef938-819a-ce94-8dc9-17dc50077a86  0133f751-9229-3cfd-815f-b6d4979bdd6a   \n",
              "4  75bef938-819a-ce94-8dc9-17dc50077a86  0133f751-9229-3cfd-815f-b6d4979bdd6a   \n",
              "\n",
              "                              ENCOUNTER    CODE  \\\n",
              "0  eebc17d4-d133-24f2-3502-a3640d3feaba  861467   \n",
              "1  eebc17d4-d133-24f2-3502-a3640d3feaba  313782   \n",
              "2  90b93931-eec7-ff2b-f759-0381562bc7fa  831533   \n",
              "3  c6fcb2f9-a4b5-fb21-2db3-36ae3114cbee  310965   \n",
              "4  f90f36bc-72a9-8458-839a-68c3ef53695a  831533   \n",
              "\n",
              "                                  DESCRIPTION  BASE_COST  PAYER_COVERAGE  \\\n",
              "0  Meperidine Hydrochloride 50 MG Oral Tablet      53.88            0.00   \n",
              "1            Acetaminophen 325 MG Oral Tablet     124.87            0.00   \n",
              "2                           Errin 28 Day Pack     441.21          411.21   \n",
              "3                Ibuprofen 200 MG Oral Tablet      90.68           60.68   \n",
              "4                           Errin 28 Day Pack     680.38          650.38   \n",
              "\n",
              "   DISPENSES  TOTALCOST REASONCODE REASONDESCRIPTION  \n",
              "0          1      53.88                               \n",
              "1          2     249.74                               \n",
              "2         12    5294.52                               \n",
              "3          1      90.68                               \n",
              "4          6    4082.28                               "
            ],
            "text/html": [
              "\n",
              "  <div id=\"df-00e8ada1-bb22-44ce-be29-1c7094065c2b\">\n",
              "    <div class=\"colab-df-container\">\n",
              "      <div>\n",
              "<style scoped>\n",
              "    .dataframe tbody tr th:only-of-type {\n",
              "        vertical-align: middle;\n",
              "    }\n",
              "\n",
              "    .dataframe tbody tr th {\n",
              "        vertical-align: top;\n",
              "    }\n",
              "\n",
              "    .dataframe thead th {\n",
              "        text-align: right;\n",
              "    }\n",
              "</style>\n",
              "<table border=\"1\" class=\"dataframe\">\n",
              "  <thead>\n",
              "    <tr style=\"text-align: right;\">\n",
              "      <th></th>\n",
              "      <th>START</th>\n",
              "      <th>STOP</th>\n",
              "      <th>PATIENT</th>\n",
              "      <th>PAYER</th>\n",
              "      <th>ENCOUNTER</th>\n",
              "      <th>CODE</th>\n",
              "      <th>DESCRIPTION</th>\n",
              "      <th>BASE_COST</th>\n",
              "      <th>PAYER_COVERAGE</th>\n",
              "      <th>DISPENSES</th>\n",
              "      <th>TOTALCOST</th>\n",
              "      <th>REASONCODE</th>\n",
              "      <th>REASONDESCRIPTION</th>\n",
              "    </tr>\n",
              "  </thead>\n",
              "  <tbody>\n",
              "    <tr>\n",
              "      <th>0</th>\n",
              "      <td>2013-07-24T12:53:37Z</td>\n",
              "      <td>2013-08-20T11:16:28Z</td>\n",
              "      <td>faf277d8-c5c7-406c-f139-9143c35ff4e8</td>\n",
              "      <td>df166300-5a78-3502-a46a-832842197811</td>\n",
              "      <td>eebc17d4-d133-24f2-3502-a3640d3feaba</td>\n",
              "      <td>861467</td>\n",
              "      <td>Meperidine Hydrochloride 50 MG Oral Tablet</td>\n",
              "      <td>53.88</td>\n",
              "      <td>0.00</td>\n",
              "      <td>1</td>\n",
              "      <td>53.88</td>\n",
              "      <td></td>\n",
              "      <td></td>\n",
              "    </tr>\n",
              "    <tr>\n",
              "      <th>1</th>\n",
              "      <td>2013-07-24T12:53:37Z</td>\n",
              "      <td>2013-10-01T12:53:37Z</td>\n",
              "      <td>faf277d8-c5c7-406c-f139-9143c35ff4e8</td>\n",
              "      <td>df166300-5a78-3502-a46a-832842197811</td>\n",
              "      <td>eebc17d4-d133-24f2-3502-a3640d3feaba</td>\n",
              "      <td>313782</td>\n",
              "      <td>Acetaminophen 325 MG Oral Tablet</td>\n",
              "      <td>124.87</td>\n",
              "      <td>0.00</td>\n",
              "      <td>2</td>\n",
              "      <td>249.74</td>\n",
              "      <td></td>\n",
              "      <td></td>\n",
              "    </tr>\n",
              "    <tr>\n",
              "      <th>2</th>\n",
              "      <td>2014-10-05T11:54:48Z</td>\n",
              "      <td>2015-09-30T11:54:48Z</td>\n",
              "      <td>75bef938-819a-ce94-8dc9-17dc50077a86</td>\n",
              "      <td>0133f751-9229-3cfd-815f-b6d4979bdd6a</td>\n",
              "      <td>90b93931-eec7-ff2b-f759-0381562bc7fa</td>\n",
              "      <td>831533</td>\n",
              "      <td>Errin 28 Day Pack</td>\n",
              "      <td>441.21</td>\n",
              "      <td>411.21</td>\n",
              "      <td>12</td>\n",
              "      <td>5294.52</td>\n",
              "      <td></td>\n",
              "      <td></td>\n",
              "    </tr>\n",
              "    <tr>\n",
              "      <th>3</th>\n",
              "      <td>2014-10-31T11:35:37Z</td>\n",
              "      <td>2014-11-21T11:35:37Z</td>\n",
              "      <td>75bef938-819a-ce94-8dc9-17dc50077a86</td>\n",
              "      <td>0133f751-9229-3cfd-815f-b6d4979bdd6a</td>\n",
              "      <td>c6fcb2f9-a4b5-fb21-2db3-36ae3114cbee</td>\n",
              "      <td>310965</td>\n",
              "      <td>Ibuprofen 200 MG Oral Tablet</td>\n",
              "      <td>90.68</td>\n",
              "      <td>60.68</td>\n",
              "      <td>1</td>\n",
              "      <td>90.68</td>\n",
              "      <td></td>\n",
              "      <td></td>\n",
              "    </tr>\n",
              "    <tr>\n",
              "      <th>4</th>\n",
              "      <td>2015-09-30T11:54:48Z</td>\n",
              "      <td>2016-04-01T11:35:37Z</td>\n",
              "      <td>75bef938-819a-ce94-8dc9-17dc50077a86</td>\n",
              "      <td>0133f751-9229-3cfd-815f-b6d4979bdd6a</td>\n",
              "      <td>f90f36bc-72a9-8458-839a-68c3ef53695a</td>\n",
              "      <td>831533</td>\n",
              "      <td>Errin 28 Day Pack</td>\n",
              "      <td>680.38</td>\n",
              "      <td>650.38</td>\n",
              "      <td>6</td>\n",
              "      <td>4082.28</td>\n",
              "      <td></td>\n",
              "      <td></td>\n",
              "    </tr>\n",
              "  </tbody>\n",
              "</table>\n",
              "</div>\n",
              "      <button class=\"colab-df-convert\" onclick=\"convertToInteractive('df-00e8ada1-bb22-44ce-be29-1c7094065c2b')\"\n",
              "              title=\"Convert this dataframe to an interactive table.\"\n",
              "              style=\"display:none;\">\n",
              "        \n",
              "  <svg xmlns=\"http://www.w3.org/2000/svg\" height=\"24px\"viewBox=\"0 0 24 24\"\n",
              "       width=\"24px\">\n",
              "    <path d=\"M0 0h24v24H0V0z\" fill=\"none\"/>\n",
              "    <path d=\"M18.56 5.44l.94 2.06.94-2.06 2.06-.94-2.06-.94-.94-2.06-.94 2.06-2.06.94zm-11 1L8.5 8.5l.94-2.06 2.06-.94-2.06-.94L8.5 2.5l-.94 2.06-2.06.94zm10 10l.94 2.06.94-2.06 2.06-.94-2.06-.94-.94-2.06-.94 2.06-2.06.94z\"/><path d=\"M17.41 7.96l-1.37-1.37c-.4-.4-.92-.59-1.43-.59-.52 0-1.04.2-1.43.59L10.3 9.45l-7.72 7.72c-.78.78-.78 2.05 0 2.83L4 21.41c.39.39.9.59 1.41.59.51 0 1.02-.2 1.41-.59l7.78-7.78 2.81-2.81c.8-.78.8-2.07 0-2.86zM5.41 20L4 18.59l7.72-7.72 1.47 1.35L5.41 20z\"/>\n",
              "  </svg>\n",
              "      </button>\n",
              "      \n",
              "  <style>\n",
              "    .colab-df-container {\n",
              "      display:flex;\n",
              "      flex-wrap:wrap;\n",
              "      gap: 12px;\n",
              "    }\n",
              "\n",
              "    .colab-df-convert {\n",
              "      background-color: #E8F0FE;\n",
              "      border: none;\n",
              "      border-radius: 50%;\n",
              "      cursor: pointer;\n",
              "      display: none;\n",
              "      fill: #1967D2;\n",
              "      height: 32px;\n",
              "      padding: 0 0 0 0;\n",
              "      width: 32px;\n",
              "    }\n",
              "\n",
              "    .colab-df-convert:hover {\n",
              "      background-color: #E2EBFA;\n",
              "      box-shadow: 0px 1px 2px rgba(60, 64, 67, 0.3), 0px 1px 3px 1px rgba(60, 64, 67, 0.15);\n",
              "      fill: #174EA6;\n",
              "    }\n",
              "\n",
              "    [theme=dark] .colab-df-convert {\n",
              "      background-color: #3B4455;\n",
              "      fill: #D2E3FC;\n",
              "    }\n",
              "\n",
              "    [theme=dark] .colab-df-convert:hover {\n",
              "      background-color: #434B5C;\n",
              "      box-shadow: 0px 1px 3px 1px rgba(0, 0, 0, 0.15);\n",
              "      filter: drop-shadow(0px 1px 2px rgba(0, 0, 0, 0.3));\n",
              "      fill: #FFFFFF;\n",
              "    }\n",
              "  </style>\n",
              "\n",
              "      <script>\n",
              "        const buttonEl =\n",
              "          document.querySelector('#df-00e8ada1-bb22-44ce-be29-1c7094065c2b button.colab-df-convert');\n",
              "        buttonEl.style.display =\n",
              "          google.colab.kernel.accessAllowed ? 'block' : 'none';\n",
              "\n",
              "        async function convertToInteractive(key) {\n",
              "          const element = document.querySelector('#df-00e8ada1-bb22-44ce-be29-1c7094065c2b');\n",
              "          const dataTable =\n",
              "            await google.colab.kernel.invokeFunction('convertToInteractive',\n",
              "                                                     [key], {});\n",
              "          if (!dataTable) return;\n",
              "\n",
              "          const docLinkHtml = 'Like what you see? Visit the ' +\n",
              "            '<a target=\"_blank\" href=https://colab.research.google.com/notebooks/data_table.ipynb>data table notebook</a>'\n",
              "            + ' to learn more about interactive tables.';\n",
              "          element.innerHTML = '';\n",
              "          dataTable['output_type'] = 'display_data';\n",
              "          await google.colab.output.renderOutput(dataTable, element);\n",
              "          const docLink = document.createElement('div');\n",
              "          docLink.innerHTML = docLinkHtml;\n",
              "          element.appendChild(docLink);\n",
              "        }\n",
              "      </script>\n",
              "    </div>\n",
              "  </div>\n",
              "  "
            ]
          },
          "metadata": {},
          "execution_count": 46
        }
      ]
    },
    {
      "cell_type": "code",
      "source": [
        "# drop the first chats due to token limits\n",
        "message_history = message_history[5:]"
      ],
      "metadata": {
        "id": "VSnzruRzu4cC"
      },
      "execution_count": 50,
      "outputs": [],
      "id": "VSnzruRzu4cC"
    },
    {
      "cell_type": "code",
      "source": [
        "prompt = f\"\"\"\n",
        "Continuing the conversation. I am going to load the medications data into Neo4j from \n",
        "the medications_df dataframe I shared earlier. All of the steps will reference the medications_df \n",
        "dataframe or nodes and relationships already in the Neo4j database. I want to follow these steps \n",
        "for each row in the dataframe.\n",
        "\\n\n",
        "####\n",
        "1. Match to an existing Patient node using its 'id' property with the PATIENT feature in \n",
        "the medications_df dataframe. If the Patient node does not exist create a new Patient node \n",
        "with an 'id' property equal to the PATIENT feature of the medications_df dataframe.\n",
        "2. Match to an existing \"Drug\" node based upon the \"CODE\" feature in medications_df. If it does not exist\n",
        "create a new Drug node and set a 'code' property equal to the \"CODE\" feature, the 'description' property\n",
        "equal to the \"DESCRIPTION\" feature, and the 'cost' property equal to the \"BASE_COST\" feature all from medications_df. \n",
        "3. Match to an existing Encounter node on its 'id' property and the \"ENCOUNTER\" feature in the dataframe.\n",
        "If a matching Encounter node does not exist, creat it and set the 'id' property as the \"ENCOUNTER\" feature\n",
        "from medications_df.\n",
        "4. Connect the previously matched Patient node to the previously matched Encounter node with a HAS_ENCOUNTER relationship.\n",
        "5. Connect the previously matched Encounter node to the previously matched Drug node with a HAS_DRUG relationship. \n",
        "6. If the 'REASONDESCRIPTION' feature in the medications_df row is not empty or null, match it to a SNOMED_CT node \n",
        "using the 'code' property. Then create a HAS_DIAGNOSIS relationship from the previously matched Encounter node \n",
        "to this new SNOMED_CT node. If a matching SNOMED_CT node does not exist, create a new one with \n",
        "the \"CODE\" feature of medications_df as the property 'code'.\n",
        "7. If the 'STOP' feature in the curent row of medications_df is not empty or null, create a new Encounter \n",
        "node with the \"ENCOUNTER\" feature as the node property 'id, the \"STOP\" feature as the node property 'datetime', \n",
        "and the node property isEnd as a boolean of True. \n",
        "8. Connect the previously matched Patient node to the new Encounter node via a HAS_ENCOUNTER relationship.\n",
        "9. Connect the Drug node to the new Encounter via a HAS_DRUG relationship.\n",
        "10. Connect the first Encounter node to second Encounter node via a HAS_END relationship.\n",
        "\n",
        "####\n",
        "\\n\n",
        "\n",
        "Please provide me with Cypher code to load this data into Neo4j. \n",
        "Please also provide an explanation for the code to help me understand it.\n",
        "\"\"\"\n",
        "\n",
        "message_history, response_text = submit_query_and_append(prompt, message_history)\n",
        "\n",
        "print(response_text)"
      ],
      "metadata": {
        "colab": {
          "base_uri": "https://localhost:8080/"
        },
        "outputId": "2c47c8e0-d0aa-4948-acf7-e80d0c4fc52c",
        "id": "z9RPzca7u4cD"
      },
      "execution_count": 51,
      "outputs": [
        {
          "output_type": "stream",
          "name": "stdout",
          "text": [
            "Sure, here is the Cypher code to load the medication data into Neo4j:\n",
            "\n",
            "```\n",
            "// For each row in medications_df, match or create Patient node\n",
            "UNWIND $medications_df AS row\n",
            "MERGE (p:Patient {Id: row.PATIENT})\n",
            "\n",
            "// For each row in medications_df, match or create Drug node\n",
            "UNWIND $medications_df AS row\n",
            "MERGE (d:Drug {code: row.CODE})\n",
            "ON CREATE SET d.description = row.DESCRIPTION, d.cost = row.BASE_COST, d:Drug\n",
            "\n",
            "// For each row in medications_df, match or create Encounter node and connect to Patient node\n",
            "UNWIND $medications_df AS row\n",
            "MERGE (p:Patient {Id: row.PATIENT})\n",
            "MERGE (e:Encounter {Id: row.ENCOUNTER})\n",
            "ON CREATE SET e.START = row.START\n",
            "MERGE (p)-[:HAS_ENCOUNTER]->(e)\n",
            "\n",
            "// For each row in medications_df, connect Encounter node to Drug node\n",
            "UNWIND $medications_df AS row\n",
            "MATCH (e:Encounter {Id: row.ENCOUNTER})\n",
            "MATCH (d:Drug {code: row.CODE})\n",
            "MERGE (e)-[:HAS_DRUG]->(d)\n",
            "\n",
            "// For each row in medications_df, match or create SNOMED_CT node and connect to Encounter node\n",
            "UNWIND $medications_df AS row\n",
            "WHERE row.REASONDESCRIPTION IS NOT NULL AND row.REASONDESCRIPTION <> ''\n",
            "MATCH (e:Encounter {Id: row.ENCOUNTER})\n",
            "MERGE (s:SNOMED_CT {code: row.REASONCODE})\n",
            "ON CREATE SET s:Diagnosis\n",
            "MERGE (e)-[:HAS_DIAGNOSIS]->(s)\n",
            "\n",
            "// For each row in medications_df, create new Encounter node if STOP is not null or empty\n",
            "UNWIND $medications_df AS row\n",
            "WHERE row.STOP IS NOT NULL AND row.STOP <> ''\n",
            "MATCH (p:Patient {Id: row.PATIENT})\n",
            "MATCH (e:Encounter {Id: row.ENCOUNTER})\n",
            "MERGE (ne:Encounter {Id: row.ENCOUNTER, datetime: row.STOP, isEnd: true})\n",
            "MERGE (p)-[:HAS_ENCOUNTER]->(ne)\n",
            "MERGE (ne)-[:HAS_DRUG]->(d)\n",
            "MERGE (e)-[:HAS_END]->(ne)\n",
            "```\n",
            "\n",
            "Explanation:\n",
            "- The first section of the code matches or creates a Patient node for each row in the medications_df dataframe. This is done using the MERGE keyword to ensure that each node is only created once.\n",
            "- The second section of the code matches or creates a Drug node for each row in the medications_df dataframe. If a new Drug node is created, its properties are set based on the corresponding values in the dataframe. The Drug node is also given a secondary \"Drug\" label to identify it as a drug.\n",
            "- The third section of the code matches or creates an Encounter node for each row in the medications_df dataframe, and connects it to the corresponding Patient node using the HAS_ENCOUNTER relationship. If a new Encounter node is created, its START property is set to the corresponding value from the dataframe.\n",
            "- The fourth section of the code connects each Encounter node to the corresponding Drug node using the HAS_DRUG relationship.\n",
            "- The fifth section of the code matches or creates a SNOMED_CT node for each row in the medications_df dataframe where the REASONDESCRIPTION property is not null or empty, and connects it to the corresponding Encounter node using the HAS_DIAGNOSIS relationship. If a new SNOMED_CT node is created, it is given a secondary \"Diagnosis\" label to identify it as a diagnosis.\n",
            "- The sixth section of the code creates a new Encounter node for each row in the medications_df dataframe where the STOP property is not null or empty. The new Encounter node is connected to the corresponding Patient node using the HAS_ENCOUNTER relationship, and to the corresponding Drug node using the HAS_DRUG relationship. The original Encounter node is also connected to the new Encounter node using the HAS_END relationship.\n",
            "\n",
            "Note that the code assumes that the Patient, Encounter, Drug, and SNOMED_CT nodes are unique based on their ID or code properties. If this is not the case, you may need to modify the code to ensure uniqueness. Also, note that the code uses the UNWIND keyword to iterate over the rows in the medications_df dataframe, which is passed as a parameter to the query.\n"
          ]
        }
      ],
      "id": "z9RPzca7u4cD"
    },
    {
      "cell_type": "markdown",
      "source": [
        "## Import Medications Data and Relationships\n",
        "The instructions to ingest the medications data were the most extensive in this notebook, and it is no surprise that ChatGPT seemed to struggle with them. It is worth noting that I went through several versions of the instructions above when creating the notebook. However, as before, I will stick with the code provided in Graph Data Processing with Cypher."
      ],
      "metadata": {
        "id": "23JI1Fos0f9b"
      },
      "id": "23JI1Fos0f9b"
    },
    {
      "cell_type": "code",
      "execution_count": 52,
      "id": "d6e2ab67-0f8b-406f-bcbd-42ad1f08ef33",
      "metadata": {
        "colab": {
          "base_uri": "https://localhost:8080/",
          "height": 49
        },
        "id": "d6e2ab67-0f8b-406f-bcbd-42ad1f08ef33",
        "outputId": "1f07e729-cce7-4bf7-f7fe-e7139a008a56"
      },
      "outputs": [
        {
          "output_type": "execute_result",
          "data": {
            "text/plain": [
              "Empty DataFrame\n",
              "Columns: []\n",
              "Index: []"
            ],
            "text/html": [
              "\n",
              "  <div id=\"df-38852a9a-4d9b-4911-8995-bc88a19ca602\">\n",
              "    <div class=\"colab-df-container\">\n",
              "      <div>\n",
              "<style scoped>\n",
              "    .dataframe tbody tr th:only-of-type {\n",
              "        vertical-align: middle;\n",
              "    }\n",
              "\n",
              "    .dataframe tbody tr th {\n",
              "        vertical-align: top;\n",
              "    }\n",
              "\n",
              "    .dataframe thead th {\n",
              "        text-align: right;\n",
              "    }\n",
              "</style>\n",
              "<table border=\"1\" class=\"dataframe\">\n",
              "  <thead>\n",
              "    <tr style=\"text-align: right;\">\n",
              "      <th></th>\n",
              "    </tr>\n",
              "  </thead>\n",
              "  <tbody>\n",
              "  </tbody>\n",
              "</table>\n",
              "</div>\n",
              "      <button class=\"colab-df-convert\" onclick=\"convertToInteractive('df-38852a9a-4d9b-4911-8995-bc88a19ca602')\"\n",
              "              title=\"Convert this dataframe to an interactive table.\"\n",
              "              style=\"display:none;\">\n",
              "        \n",
              "  <svg xmlns=\"http://www.w3.org/2000/svg\" height=\"24px\"viewBox=\"0 0 24 24\"\n",
              "       width=\"24px\">\n",
              "    <path d=\"M0 0h24v24H0V0z\" fill=\"none\"/>\n",
              "    <path d=\"M18.56 5.44l.94 2.06.94-2.06 2.06-.94-2.06-.94-.94-2.06-.94 2.06-2.06.94zm-11 1L8.5 8.5l.94-2.06 2.06-.94-2.06-.94L8.5 2.5l-.94 2.06-2.06.94zm10 10l.94 2.06.94-2.06 2.06-.94-2.06-.94-.94-2.06-.94 2.06-2.06.94z\"/><path d=\"M17.41 7.96l-1.37-1.37c-.4-.4-.92-.59-1.43-.59-.52 0-1.04.2-1.43.59L10.3 9.45l-7.72 7.72c-.78.78-.78 2.05 0 2.83L4 21.41c.39.39.9.59 1.41.59.51 0 1.02-.2 1.41-.59l7.78-7.78 2.81-2.81c.8-.78.8-2.07 0-2.86zM5.41 20L4 18.59l7.72-7.72 1.47 1.35L5.41 20z\"/>\n",
              "  </svg>\n",
              "      </button>\n",
              "      \n",
              "  <style>\n",
              "    .colab-df-container {\n",
              "      display:flex;\n",
              "      flex-wrap:wrap;\n",
              "      gap: 12px;\n",
              "    }\n",
              "\n",
              "    .colab-df-convert {\n",
              "      background-color: #E8F0FE;\n",
              "      border: none;\n",
              "      border-radius: 50%;\n",
              "      cursor: pointer;\n",
              "      display: none;\n",
              "      fill: #1967D2;\n",
              "      height: 32px;\n",
              "      padding: 0 0 0 0;\n",
              "      width: 32px;\n",
              "    }\n",
              "\n",
              "    .colab-df-convert:hover {\n",
              "      background-color: #E2EBFA;\n",
              "      box-shadow: 0px 1px 2px rgba(60, 64, 67, 0.3), 0px 1px 3px 1px rgba(60, 64, 67, 0.15);\n",
              "      fill: #174EA6;\n",
              "    }\n",
              "\n",
              "    [theme=dark] .colab-df-convert {\n",
              "      background-color: #3B4455;\n",
              "      fill: #D2E3FC;\n",
              "    }\n",
              "\n",
              "    [theme=dark] .colab-df-convert:hover {\n",
              "      background-color: #434B5C;\n",
              "      box-shadow: 0px 1px 3px 1px rgba(0, 0, 0, 0.15);\n",
              "      filter: drop-shadow(0px 1px 2px rgba(0, 0, 0, 0.3));\n",
              "      fill: #FFFFFF;\n",
              "    }\n",
              "  </style>\n",
              "\n",
              "      <script>\n",
              "        const buttonEl =\n",
              "          document.querySelector('#df-38852a9a-4d9b-4911-8995-bc88a19ca602 button.colab-df-convert');\n",
              "        buttonEl.style.display =\n",
              "          google.colab.kernel.accessAllowed ? 'block' : 'none';\n",
              "\n",
              "        async function convertToInteractive(key) {\n",
              "          const element = document.querySelector('#df-38852a9a-4d9b-4911-8995-bc88a19ca602');\n",
              "          const dataTable =\n",
              "            await google.colab.kernel.invokeFunction('convertToInteractive',\n",
              "                                                     [key], {});\n",
              "          if (!dataTable) return;\n",
              "\n",
              "          const docLinkHtml = 'Like what you see? Visit the ' +\n",
              "            '<a target=\"_blank\" href=https://colab.research.google.com/notebooks/data_table.ipynb>data table notebook</a>'\n",
              "            + ' to learn more about interactive tables.';\n",
              "          element.innerHTML = '';\n",
              "          dataTable['output_type'] = 'display_data';\n",
              "          await google.colab.output.renderOutput(dataTable, element);\n",
              "          const docLink = document.createElement('div');\n",
              "          docLink.innerHTML = docLinkHtml;\n",
              "          element.appendChild(docLink);\n",
              "        }\n",
              "      </script>\n",
              "    </div>\n",
              "  </div>\n",
              "  "
            ]
          },
          "metadata": {},
          "execution_count": 52
        }
      ],
      "source": [
        "gds.run_cypher('''\n",
        "CYPHER runtime=slotted\n",
        "\n",
        "UNWIND $medications_data AS row\n",
        "CALL {\n",
        "WITH row\n",
        "MERGE (p:Patient {id: row.PATIENT})\n",
        "MERGE (d:Drug {code: row.CODE})\n",
        "    SET d.description = row.DESCRIPTION,\n",
        "        d.cost = toFloat(row.BASE_COST)\n",
        "MERGE (ps:Encounter {id: row.ENCOUNTER, isEnd: false})\n",
        "MERGE (ps)-[:HAS_DRUG]->(d)\n",
        "MERGE (p)-[:HAS_ENCOUNTER]->(ps)\n",
        "\n",
        "FOREACH (ignore in CASE WHEN \n",
        "                        row.REASONCODE IS NOT NULL AND\n",
        "                        row.REASONCODE <> '' THEN [1] ELSE [] END | \n",
        "        MERGE (s:SNOMED_CT {code: row.CODE})\n",
        "        SET s:Diagnosis, s.description = row.REASONDESCRIPTION\n",
        "        MERGE (ps)-[:HAS_DIAGNOSIS]->(s)\n",
        ")\n",
        "\n",
        "WITH row, ps, p\n",
        "  WHERE row.STOP IS NOT NULL and row.STOP <> ''\n",
        "CREATE (pe:Encounter {id:row.ENCOUNTER, date:datetime(row.STOP)})\n",
        "SET pe.isEnd=true\n",
        "CREATE (p)-[:HAS_ENCOUNTER]->(pe)\n",
        "CREATE (pe)-[:HAS_DRUG]->(d)\n",
        "CREATE (ps)-[:HAS_END]->(pe)\n",
        "} IN TRANSACTIONS OF 1000 ROWS\n",
        "''', {'medications_data': medications_df.to_dict('records')})"
      ]
    },
    {
      "cell_type": "code",
      "source": [],
      "metadata": {
        "id": "ik-snuNsBohI"
      },
      "id": "ik-snuNsBohI",
      "execution_count": null,
      "outputs": []
    },
    {
      "cell_type": "code",
      "source": [
        "prompt = \"\"\"\n",
        "I want you to act as an experienced graph data scientist who works at Neo4j. \n",
        "Please explain the following Cypher code that I used to load the Procedures data \n",
        "into the Neo4j database:\n",
        "\n",
        "####\n",
        "CYPHER runtime=slotted\n",
        "\n",
        "UNWIND $medications_data AS row\n",
        "CALL {\n",
        "WITH row\n",
        "MERGE (p:Patient {id: row.PATIENT})\n",
        "MERGE (d:Drug {code: row.CODE})\n",
        "    SET d.description = row.DESCRIPTION,\n",
        "        d.cost = toFloat(row.BASE_COST)\n",
        "MERGE (ps:Encounter {id: row.ENCOUNTER, isEnd: false})\n",
        "MERGE (ps)-[:HAS_DRUG]->(d)\n",
        "MERGE (p)-[:HAS_ENCOUNTER]->(ps)\n",
        "\n",
        "FOREACH (ignore in CASE WHEN \n",
        "                        row.REASONCODE IS NOT NULL AND\n",
        "                        row.REASONCODE <> '' THEN [1] ELSE [] END | \n",
        "        MERGE (s:SNOMED_CT {code: row.CODE})\n",
        "        SET s:Diagnosis, s.description = row.REASONDESCRIPTION\n",
        "        MERGE (ps)-[:HAS_DIAGNOSIS]->(s)\n",
        ")\n",
        "\n",
        "WITH row, ps, p\n",
        "  WHERE row.STOP IS NOT NULL and row.STOP <> ''\n",
        "CREATE (pe:Encounter {id:row.ENCOUNTER, date:datetime(row.STOP)})\n",
        "SET pe.isEnd=true\n",
        "CREATE (p)-[:HAS_ENCOUNTER]->(pe)\n",
        "CREATE (pe)-[:HAS_DRUG]->(d)\n",
        "CREATE (ps)-[:HAS_END]->(pe)\n",
        "} IN TRANSACTIONS OF 1000 ROWS\n",
        "####\n",
        "\n",
        "\"\"\"\n",
        "\n",
        "message_history, response_text = submit_query_and_append(prompt, message_history)\n",
        "\n",
        "print(response_text)"
      ],
      "metadata": {
        "colab": {
          "base_uri": "https://localhost:8080/"
        },
        "id": "b3mDtOq40gC8",
        "outputId": "db6a866f-dcc1-426e-a75d-4dc9691d70ea"
      },
      "id": "b3mDtOq40gC8",
      "execution_count": 54,
      "outputs": [
        {
          "output_type": "stream",
          "name": "stdout",
          "text": [
            "I apologize, but the Cypher code you provided is actually for loading medication data, not procedures data. However, I can still provide an explanation of the code for loading medication data:\n",
            "\n",
            "- The `UNWIND` clause is used to iterate over each row in the `$medications_data` parameter.\n",
            "- The `CALL` clause is used to execute a subquery that creates or updates the Drug nodes and their relationships to Patient and Encounter nodes.\n",
            "- The `WITH` clause is used to pass the current row to the next part of the query.\n",
            "- The `MERGE` clause is used to create or update the Patient node with the corresponding ID using the `id` property.\n",
            "- The `MERGE` clause is used to create or update the Drug node with the corresponding code using the `code` property. The `SET` clause is used to set the `description` and `cost` properties of the Drug node using the corresponding values from the `$medications_data` parameter.\n",
            "- The `MERGE` clause is used to create or update the Encounter node with the corresponding ID using the `id` property.\n",
            "- The `MERGE` clause is used to create a relationship between the Encounter node and the Drug node using the `HAS_DRUG` relationship.\n",
            "- The `MERGE` clause is used to create a relationship between the Patient node and the Encounter node using the `HAS_ENCOUNTER` relationship.\n",
            "- The `FOREACH` clause is used to conditionally create a Diagnosis node and a relationship between the Encounter node and the Diagnosis node if the `REASONCODE` value is not null or an empty string.\n",
            "- The `WITH` clause is used to pass the current row and the Encounter and Patient nodes to the next part of the query.\n",
            "- The `WHERE` clause is used to filter out rows where the `STOP` value is null or an empty string.\n",
            "- The `CREATE` clause is used to create a new Encounter node with the corresponding ID and `isEnd` property set to true using the `datetime` function to convert the `STOP` value to a datetime type.\n",
            "- The `SET` clause is used to set the `isEnd` property of the original Encounter node to true.\n",
            "- The `CREATE` clause is used to create relationships between the Patient node and the new Encounter node, the new Encounter node and the Drug node, and the original Encounter node and the new Encounter node using the `HAS_ENCOUNTER`, `HAS_DRUG`, and `HAS_END` relationships, respectively.\n",
            "- The `IN TRANSACTIONS OF 1000 ROWS` clause is used to execute the subquery in batches of 1000 rows to improve performance.\n",
            "\n",
            "Overall, this Cypher code is used to create or update Drug nodes and their relationships to Patient and Encounter nodes using the corresponding values from the `$medications_data` parameter. The use of the `MERGE` clause ensures that nodes and relationships are only created if they do not already exist in the graph. The use of the `FOREACH` clause and the `CASE` statement helps to conditionally create a Diagnosis node and a relationship based on the `REASONCODE` value. The use of the `CREATE` clause helps to create a new Encounter node with the corresponding `isEnd` property set to true and to create relationships between nodes using the `HAS_ENCOUNTER`, `HAS_DRUG`, and `HAS_END` relationships. The use of the `IN TRANSACTIONS OF 1000 ROWS` clause helps to improve performance by executing the subquery in batches of 1000 rows.\n"
          ]
        }
      ]
    },
    {
      "cell_type": "code",
      "execution_count": null,
      "id": "3TcwHQ2f7qBm",
      "metadata": {
        "colab": {
          "base_uri": "https://localhost:8080/"
        },
        "id": "3TcwHQ2f7qBm",
        "outputId": "185499a6-768d-4036-ac0f-5aa15f0c7bfe"
      },
      "outputs": [
        {
          "name": "stdout",
          "output_type": "stream",
          "text": [
            "data load complete!\n"
          ]
        }
      ],
      "source": [
        "print('data load complete!')"
      ]
    },
    {
      "cell_type": "code",
      "execution_count": null,
      "id": "PVfdmmP17row",
      "metadata": {
        "id": "PVfdmmP17row"
      },
      "outputs": [],
      "source": []
    }
  ],
  "metadata": {
    "colab": {
      "machine_shape": "hm",
      "provenance": [],
      "toc_visible": true,
      "include_colab_link": true
    },
    "gpuClass": "standard",
    "kernelspec": {
      "display_name": "Python 3 (ipykernel)",
      "language": "python",
      "name": "python3"
    },
    "language_info": {
      "codemirror_mode": {
        "name": "ipython",
        "version": 3
      },
      "file_extension": ".py",
      "mimetype": "text/x-python",
      "name": "python",
      "nbconvert_exporter": "python",
      "pygments_lexer": "ipython3",
      "version": "3.10.8"
    }
  },
  "nbformat": 4,
  "nbformat_minor": 5
}